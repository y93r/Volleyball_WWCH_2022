{
 "cells": [
  {
   "cell_type": "markdown",
   "id": "b4a22e16",
   "metadata": {},
   "source": [
    "### Informações tiradas do site da FIVB\n",
    "\n",
    "https://en.volleyballworld.com/volleyball/competitions/women-worldchampionship-2022/"
   ]
  },
  {
   "cell_type": "markdown",
   "id": "55b370f4",
   "metadata": {},
   "source": [
    "## Comparação entre as 5 seleções favoritas ao título desse mundial"
   ]
  },
  {
   "cell_type": "code",
   "execution_count": 1,
   "id": "a07a6ad6",
   "metadata": {},
   "outputs": [],
   "source": [
    "#Bibliotecas\n",
    "import pandas as pd\n",
    "import numpy as np\n",
    "import seaborn as sns\n",
    "import matplotlib.pyplot as plt\n",
    "\n",
    "plt.rcParams['figure.figsize'] = (15, 5)  # Tamanho do gráfico\n",
    "plt.style.use('seaborn-darkgrid') # Estilo do gráfico"
   ]
  },
  {
   "cell_type": "code",
   "execution_count": 6,
   "id": "58ca7858",
   "metadata": {},
   "outputs": [
    {
     "data": {
      "text/html": [
       "<div>\n",
       "<style scoped>\n",
       "    .dataframe tbody tr th:only-of-type {\n",
       "        vertical-align: middle;\n",
       "    }\n",
       "\n",
       "    .dataframe tbody tr th {\n",
       "        vertical-align: top;\n",
       "    }\n",
       "\n",
       "    .dataframe thead th {\n",
       "        text-align: right;\n",
       "    }\n",
       "</style>\n",
       "<table border=\"1\" class=\"dataframe\">\n",
       "  <thead>\n",
       "    <tr style=\"text-align: right;\">\n",
       "      <th></th>\n",
       "      <th>NOME</th>\n",
       "      <th>IDADE</th>\n",
       "      <th>ALTURA</th>\n",
       "      <th>POSIÇÃO</th>\n",
       "    </tr>\n",
       "  </thead>\n",
       "  <tbody>\n",
       "    <tr>\n",
       "      <th>0</th>\n",
       "      <td>Carol Gattaz</td>\n",
       "      <td>41</td>\n",
       "      <td>1.92</td>\n",
       "      <td>Meio De Rede</td>\n",
       "    </tr>\n",
       "    <tr>\n",
       "      <th>1</th>\n",
       "      <td>Júlia Kudiess</td>\n",
       "      <td>19</td>\n",
       "      <td>1.92</td>\n",
       "      <td>Meio De Rede</td>\n",
       "    </tr>\n",
       "    <tr>\n",
       "      <th>2</th>\n",
       "      <td>Carol</td>\n",
       "      <td>31</td>\n",
       "      <td>1.83</td>\n",
       "      <td>Meio De Rede</td>\n",
       "    </tr>\n",
       "    <tr>\n",
       "      <th>3</th>\n",
       "      <td>Pri Daroit</td>\n",
       "      <td>34</td>\n",
       "      <td>1.84</td>\n",
       "      <td>Ponteira</td>\n",
       "    </tr>\n",
       "    <tr>\n",
       "      <th>4</th>\n",
       "      <td>Nyeme</td>\n",
       "      <td>23</td>\n",
       "      <td>1.75</td>\n",
       "      <td>Líbero</td>\n",
       "    </tr>\n",
       "    <tr>\n",
       "      <th>5</th>\n",
       "      <td>Rosamaria</td>\n",
       "      <td>28</td>\n",
       "      <td>1.85</td>\n",
       "      <td>Ponteira</td>\n",
       "    </tr>\n",
       "    <tr>\n",
       "      <th>6</th>\n",
       "      <td>Macris</td>\n",
       "      <td>33</td>\n",
       "      <td>1.78</td>\n",
       "      <td>Levantadora</td>\n",
       "    </tr>\n",
       "    <tr>\n",
       "      <th>7</th>\n",
       "      <td>Roberta</td>\n",
       "      <td>32</td>\n",
       "      <td>1.85</td>\n",
       "      <td>Levantadora</td>\n",
       "    </tr>\n",
       "    <tr>\n",
       "      <th>8</th>\n",
       "      <td>Gabi</td>\n",
       "      <td>28</td>\n",
       "      <td>1.80</td>\n",
       "      <td>Ponteira</td>\n",
       "    </tr>\n",
       "    <tr>\n",
       "      <th>9</th>\n",
       "      <td>Natinha</td>\n",
       "      <td>25</td>\n",
       "      <td>1.65</td>\n",
       "      <td>Líbero</td>\n",
       "    </tr>\n",
       "    <tr>\n",
       "      <th>10</th>\n",
       "      <td>Lorena</td>\n",
       "      <td>23</td>\n",
       "      <td>1.90</td>\n",
       "      <td>Meio De Rede</td>\n",
       "    </tr>\n",
       "    <tr>\n",
       "      <th>11</th>\n",
       "      <td>Kisy</td>\n",
       "      <td>22</td>\n",
       "      <td>1.91</td>\n",
       "      <td>Oposto</td>\n",
       "    </tr>\n",
       "    <tr>\n",
       "      <th>12</th>\n",
       "      <td>Tainara</td>\n",
       "      <td>22</td>\n",
       "      <td>1.90</td>\n",
       "      <td>Ponteira</td>\n",
       "    </tr>\n",
       "    <tr>\n",
       "      <th>13</th>\n",
       "      <td>Lorenne</td>\n",
       "      <td>26</td>\n",
       "      <td>1.87</td>\n",
       "      <td>Oposto</td>\n",
       "    </tr>\n",
       "  </tbody>\n",
       "</table>\n",
       "</div>"
      ],
      "text/plain": [
       "             NOME  IDADE  ALTURA       POSIÇÃO\n",
       "0    Carol Gattaz     41    1.92  Meio De Rede\n",
       "1   Júlia Kudiess     19    1.92  Meio De Rede\n",
       "2           Carol     31    1.83  Meio De Rede\n",
       "3      Pri Daroit     34    1.84      Ponteira\n",
       "4           Nyeme     23    1.75        Líbero\n",
       "5       Rosamaria     28    1.85      Ponteira\n",
       "6          Macris     33    1.78   Levantadora\n",
       "7         Roberta     32    1.85   Levantadora\n",
       "8            Gabi     28    1.80      Ponteira\n",
       "9         Natinha     25    1.65        Líbero\n",
       "10         Lorena     23    1.90  Meio De Rede\n",
       "11           Kisy     22    1.91        Oposto\n",
       "12        Tainara     22    1.90      Ponteira\n",
       "13        Lorenne     26    1.87        Oposto"
      ]
     },
     "metadata": {},
     "output_type": "display_data"
    },
    {
     "data": {
      "text/html": [
       "<div>\n",
       "<style scoped>\n",
       "    .dataframe tbody tr th:only-of-type {\n",
       "        vertical-align: middle;\n",
       "    }\n",
       "\n",
       "    .dataframe tbody tr th {\n",
       "        vertical-align: top;\n",
       "    }\n",
       "\n",
       "    .dataframe thead th {\n",
       "        text-align: right;\n",
       "    }\n",
       "</style>\n",
       "<table border=\"1\" class=\"dataframe\">\n",
       "  <thead>\n",
       "    <tr style=\"text-align: right;\">\n",
       "      <th></th>\n",
       "      <th>NOME</th>\n",
       "      <th>IDADE</th>\n",
       "      <th>ALTURA</th>\n",
       "      <th>POSIÇÃO</th>\n",
       "    </tr>\n",
       "  </thead>\n",
       "  <tbody>\n",
       "    <tr>\n",
       "      <th>0</th>\n",
       "      <td>Lubian</td>\n",
       "      <td>22</td>\n",
       "      <td>1.93</td>\n",
       "      <td>Meio de rede</td>\n",
       "    </tr>\n",
       "    <tr>\n",
       "      <th>1</th>\n",
       "      <td>Gennari</td>\n",
       "      <td>30</td>\n",
       "      <td>1.84</td>\n",
       "      <td>Ponteira</td>\n",
       "    </tr>\n",
       "    <tr>\n",
       "      <th>2</th>\n",
       "      <td>Bonifacio</td>\n",
       "      <td>26</td>\n",
       "      <td>1.86</td>\n",
       "      <td>Meio de rede</td>\n",
       "    </tr>\n",
       "    <tr>\n",
       "      <th>3</th>\n",
       "      <td>Malinov</td>\n",
       "      <td>26</td>\n",
       "      <td>1.82</td>\n",
       "      <td>Levantadora</td>\n",
       "    </tr>\n",
       "    <tr>\n",
       "      <th>4</th>\n",
       "      <td>De Gennaro</td>\n",
       "      <td>35</td>\n",
       "      <td>1.74</td>\n",
       "      <td>Líbero</td>\n",
       "    </tr>\n",
       "    <tr>\n",
       "      <th>5</th>\n",
       "      <td>Fersino</td>\n",
       "      <td>22</td>\n",
       "      <td>1.69</td>\n",
       "      <td>Líbero</td>\n",
       "    </tr>\n",
       "    <tr>\n",
       "      <th>6</th>\n",
       "      <td>Orro</td>\n",
       "      <td>24</td>\n",
       "      <td>1.78</td>\n",
       "      <td>Levantadora</td>\n",
       "    </tr>\n",
       "    <tr>\n",
       "      <th>7</th>\n",
       "      <td>Bosetti</td>\n",
       "      <td>28</td>\n",
       "      <td>1.79</td>\n",
       "      <td>Ponteira</td>\n",
       "    </tr>\n",
       "    <tr>\n",
       "      <th>8</th>\n",
       "      <td>Chirichella</td>\n",
       "      <td>28</td>\n",
       "      <td>1.91</td>\n",
       "      <td>Meio de rede</td>\n",
       "    </tr>\n",
       "    <tr>\n",
       "      <th>9</th>\n",
       "      <td>Danesi</td>\n",
       "      <td>26</td>\n",
       "      <td>1.95</td>\n",
       "      <td>Meio de rede</td>\n",
       "    </tr>\n",
       "    <tr>\n",
       "      <th>10</th>\n",
       "      <td>Pietrini</td>\n",
       "      <td>22</td>\n",
       "      <td>1.88</td>\n",
       "      <td>Ponteira</td>\n",
       "    </tr>\n",
       "    <tr>\n",
       "      <th>11</th>\n",
       "      <td>Nwakalor</td>\n",
       "      <td>23</td>\n",
       "      <td>1.79</td>\n",
       "      <td>Oposto</td>\n",
       "    </tr>\n",
       "    <tr>\n",
       "      <th>12</th>\n",
       "      <td>Sylla</td>\n",
       "      <td>27</td>\n",
       "      <td>1.84</td>\n",
       "      <td>Ponteira</td>\n",
       "    </tr>\n",
       "    <tr>\n",
       "      <th>13</th>\n",
       "      <td>Egonu</td>\n",
       "      <td>23</td>\n",
       "      <td>1.93</td>\n",
       "      <td>Oposto</td>\n",
       "    </tr>\n",
       "  </tbody>\n",
       "</table>\n",
       "</div>"
      ],
      "text/plain": [
       "           NOME  IDADE  ALTURA       POSIÇÃO\n",
       "0        Lubian     22    1.93  Meio de rede\n",
       "1       Gennari     30    1.84      Ponteira\n",
       "2     Bonifacio     26    1.86  Meio de rede\n",
       "3       Malinov     26    1.82   Levantadora\n",
       "4    De Gennaro     35    1.74        Líbero\n",
       "5       Fersino     22    1.69        Líbero\n",
       "6          Orro     24    1.78   Levantadora\n",
       "7       Bosetti     28    1.79      Ponteira\n",
       "8   Chirichella     28    1.91  Meio de rede\n",
       "9        Danesi     26    1.95  Meio de rede\n",
       "10     Pietrini     22    1.88      Ponteira\n",
       "11     Nwakalor     23    1.79        Oposto\n",
       "12        Sylla     27    1.84      Ponteira\n",
       "13        Egonu     23    1.93        Oposto"
      ]
     },
     "metadata": {},
     "output_type": "display_data"
    },
    {
     "data": {
      "text/html": [
       "<div>\n",
       "<style scoped>\n",
       "    .dataframe tbody tr th:only-of-type {\n",
       "        vertical-align: middle;\n",
       "    }\n",
       "\n",
       "    .dataframe tbody tr th {\n",
       "        vertical-align: top;\n",
       "    }\n",
       "\n",
       "    .dataframe thead th {\n",
       "        text-align: right;\n",
       "    }\n",
       "</style>\n",
       "<table border=\"1\" class=\"dataframe\">\n",
       "  <thead>\n",
       "    <tr style=\"text-align: right;\">\n",
       "      <th></th>\n",
       "      <th>NOME</th>\n",
       "      <th>IDADE</th>\n",
       "      <th>ALTURA</th>\n",
       "      <th>POSIÇÃO</th>\n",
       "    </tr>\n",
       "  </thead>\n",
       "  <tbody>\n",
       "    <tr>\n",
       "      <th>0</th>\n",
       "      <td>Poulter</td>\n",
       "      <td>25</td>\n",
       "      <td>1.88</td>\n",
       "      <td>Levantadora</td>\n",
       "    </tr>\n",
       "    <tr>\n",
       "      <th>1</th>\n",
       "      <td>Wong-Orantes</td>\n",
       "      <td>26</td>\n",
       "      <td>1.68</td>\n",
       "      <td>Líbero</td>\n",
       "    </tr>\n",
       "    <tr>\n",
       "      <th>2</th>\n",
       "      <td>Hentz</td>\n",
       "      <td>24</td>\n",
       "      <td>1.75</td>\n",
       "      <td>Líbero</td>\n",
       "    </tr>\n",
       "    <tr>\n",
       "      <th>3</th>\n",
       "      <td>Carlini</td>\n",
       "      <td>27</td>\n",
       "      <td>1.85</td>\n",
       "      <td>Levantadora</td>\n",
       "    </tr>\n",
       "    <tr>\n",
       "      <th>4</th>\n",
       "      <td>Tapp</td>\n",
       "      <td>27</td>\n",
       "      <td>1.91</td>\n",
       "      <td>Meio de rede</td>\n",
       "    </tr>\n",
       "    <tr>\n",
       "      <th>5</th>\n",
       "      <td>Drews</td>\n",
       "      <td>28</td>\n",
       "      <td>1.91</td>\n",
       "      <td>Oposto</td>\n",
       "    </tr>\n",
       "    <tr>\n",
       "      <th>6</th>\n",
       "      <td>Wilhite</td>\n",
       "      <td>27</td>\n",
       "      <td>1.85</td>\n",
       "      <td>Ponteira</td>\n",
       "    </tr>\n",
       "    <tr>\n",
       "      <th>7</th>\n",
       "      <td>Washington</td>\n",
       "      <td>27</td>\n",
       "      <td>1.90</td>\n",
       "      <td>Meio de rede</td>\n",
       "    </tr>\n",
       "    <tr>\n",
       "      <th>8</th>\n",
       "      <td>Bajema</td>\n",
       "      <td>24</td>\n",
       "      <td>1.90</td>\n",
       "      <td>Ponteira</td>\n",
       "    </tr>\n",
       "    <tr>\n",
       "      <th>9</th>\n",
       "      <td>Cuttino</td>\n",
       "      <td>26</td>\n",
       "      <td>1.95</td>\n",
       "      <td>Oposto</td>\n",
       "    </tr>\n",
       "    <tr>\n",
       "      <th>10</th>\n",
       "      <td>Robinson</td>\n",
       "      <td>30</td>\n",
       "      <td>1.88</td>\n",
       "      <td>Ponteira</td>\n",
       "    </tr>\n",
       "    <tr>\n",
       "      <th>11</th>\n",
       "      <td>Ogbogu</td>\n",
       "      <td>27</td>\n",
       "      <td>1.88</td>\n",
       "      <td>Meio de rede</td>\n",
       "    </tr>\n",
       "    <tr>\n",
       "      <th>12</th>\n",
       "      <td>Frantti</td>\n",
       "      <td>26</td>\n",
       "      <td>1.91</td>\n",
       "      <td>Ponteira</td>\n",
       "    </tr>\n",
       "    <tr>\n",
       "      <th>13</th>\n",
       "      <td>Stevenson</td>\n",
       "      <td>23</td>\n",
       "      <td>1.88</td>\n",
       "      <td>Meio de rede</td>\n",
       "    </tr>\n",
       "  </tbody>\n",
       "</table>\n",
       "</div>"
      ],
      "text/plain": [
       "             NOME  IDADE  ALTURA       POSIÇÃO\n",
       "0        Poulter      25    1.88   Levantadora\n",
       "1   Wong-Orantes      26    1.68        Líbero\n",
       "2           Hentz     24    1.75        Líbero\n",
       "3         Carlini     27    1.85   Levantadora\n",
       "4            Tapp     27    1.91  Meio de rede\n",
       "5           Drews     28    1.91        Oposto\n",
       "6         Wilhite     27    1.85      Ponteira\n",
       "7      Washington     27    1.90  Meio de rede\n",
       "8          Bajema     24    1.90      Ponteira\n",
       "9         Cuttino     26    1.95        Oposto\n",
       "10       Robinson     30    1.88      Ponteira\n",
       "11         Ogbogu     27    1.88  Meio de rede\n",
       "12        Frantti     26    1.91      Ponteira\n",
       "13      Stevenson     23    1.88  Meio de rede"
      ]
     },
     "metadata": {},
     "output_type": "display_data"
    },
    {
     "data": {
      "text/html": [
       "<div>\n",
       "<style scoped>\n",
       "    .dataframe tbody tr th:only-of-type {\n",
       "        vertical-align: middle;\n",
       "    }\n",
       "\n",
       "    .dataframe tbody tr th {\n",
       "        vertical-align: top;\n",
       "    }\n",
       "\n",
       "    .dataframe thead th {\n",
       "        text-align: right;\n",
       "    }\n",
       "</style>\n",
       "<table border=\"1\" class=\"dataframe\">\n",
       "  <thead>\n",
       "    <tr style=\"text-align: right;\">\n",
       "      <th></th>\n",
       "      <th>NOME</th>\n",
       "      <th>IDADE</th>\n",
       "      <th>ALTURA</th>\n",
       "      <th>POSIÇÃO</th>\n",
       "    </tr>\n",
       "  </thead>\n",
       "  <tbody>\n",
       "    <tr>\n",
       "      <th>0</th>\n",
       "      <td>Busa</td>\n",
       "      <td>28</td>\n",
       "      <td>1.87</td>\n",
       "      <td>Ponteira</td>\n",
       "    </tr>\n",
       "    <tr>\n",
       "      <th>1</th>\n",
       "      <td>Lazovic</td>\n",
       "      <td>23</td>\n",
       "      <td>1.82</td>\n",
       "      <td>Ponteira</td>\n",
       "    </tr>\n",
       "    <tr>\n",
       "      <th>2</th>\n",
       "      <td>Drca</td>\n",
       "      <td>34</td>\n",
       "      <td>1.86</td>\n",
       "      <td>Levantadora</td>\n",
       "    </tr>\n",
       "    <tr>\n",
       "      <th>3</th>\n",
       "      <td>Popovic</td>\n",
       "      <td>28</td>\n",
       "      <td>1.87</td>\n",
       "      <td>Meio de rede</td>\n",
       "    </tr>\n",
       "    <tr>\n",
       "      <th>4</th>\n",
       "      <td>Mirkovic</td>\n",
       "      <td>26</td>\n",
       "      <td>1.85</td>\n",
       "      <td>Levantadora</td>\n",
       "    </tr>\n",
       "    <tr>\n",
       "      <th>5</th>\n",
       "      <td>Mihajlovic</td>\n",
       "      <td>31</td>\n",
       "      <td>1.90</td>\n",
       "      <td>Ponteira</td>\n",
       "    </tr>\n",
       "    <tr>\n",
       "      <th>6</th>\n",
       "      <td>Pusic</td>\n",
       "      <td>29</td>\n",
       "      <td>1.70</td>\n",
       "      <td>Líbero</td>\n",
       "    </tr>\n",
       "    <tr>\n",
       "      <th>7</th>\n",
       "      <td>Bjelica</td>\n",
       "      <td>30</td>\n",
       "      <td>1.90</td>\n",
       "      <td>Oposto</td>\n",
       "    </tr>\n",
       "    <tr>\n",
       "      <th>8</th>\n",
       "      <td>Aleksic</td>\n",
       "      <td>25</td>\n",
       "      <td>1.88</td>\n",
       "      <td>Meio de rede</td>\n",
       "    </tr>\n",
       "    <tr>\n",
       "      <th>9</th>\n",
       "      <td>Stevanovic</td>\n",
       "      <td>30</td>\n",
       "      <td>1.92</td>\n",
       "      <td>Meio de rede</td>\n",
       "    </tr>\n",
       "    <tr>\n",
       "      <th>10</th>\n",
       "      <td>Jegdic</td>\n",
       "      <td>27</td>\n",
       "      <td>1.67</td>\n",
       "      <td>Líbero</td>\n",
       "    </tr>\n",
       "    <tr>\n",
       "      <th>11</th>\n",
       "      <td>Boskovic</td>\n",
       "      <td>25</td>\n",
       "      <td>1.93</td>\n",
       "      <td>Oposto</td>\n",
       "    </tr>\n",
       "    <tr>\n",
       "      <th>12</th>\n",
       "      <td>Milenkovic</td>\n",
       "      <td>25</td>\n",
       "      <td>1.85</td>\n",
       "      <td>Ponteira</td>\n",
       "    </tr>\n",
       "    <tr>\n",
       "      <th>13</th>\n",
       "      <td>Lozo</td>\n",
       "      <td>25</td>\n",
       "      <td>1.86</td>\n",
       "      <td>Ponteira</td>\n",
       "    </tr>\n",
       "  </tbody>\n",
       "</table>\n",
       "</div>"
      ],
      "text/plain": [
       "           NOME  IDADE  ALTURA       POSIÇÃO\n",
       "0          Busa     28    1.87      Ponteira\n",
       "1       Lazovic     23    1.82      Ponteira\n",
       "2          Drca     34    1.86   Levantadora\n",
       "3       Popovic     28    1.87  Meio de rede\n",
       "4      Mirkovic     26    1.85   Levantadora\n",
       "5    Mihajlovic     31    1.90      Ponteira\n",
       "6         Pusic     29    1.70        Líbero\n",
       "7       Bjelica     30    1.90        Oposto\n",
       "8       Aleksic     25    1.88  Meio de rede\n",
       "9   Stevanovic      30    1.92  Meio de rede\n",
       "10       Jegdic     27    1.67        Líbero\n",
       "11     Boskovic     25    1.93        Oposto\n",
       "12   Milenkovic     25    1.85      Ponteira\n",
       "13         Lozo     25    1.86      Ponteira"
      ]
     },
     "metadata": {},
     "output_type": "display_data"
    },
    {
     "data": {
      "text/html": [
       "<div>\n",
       "<style scoped>\n",
       "    .dataframe tbody tr th:only-of-type {\n",
       "        vertical-align: middle;\n",
       "    }\n",
       "\n",
       "    .dataframe tbody tr th {\n",
       "        vertical-align: top;\n",
       "    }\n",
       "\n",
       "    .dataframe thead th {\n",
       "        text-align: right;\n",
       "    }\n",
       "</style>\n",
       "<table border=\"1\" class=\"dataframe\">\n",
       "  <thead>\n",
       "    <tr style=\"text-align: right;\">\n",
       "      <th></th>\n",
       "      <th>NOME</th>\n",
       "      <th>IDADE</th>\n",
       "      <th>ALTURA</th>\n",
       "      <th>POSIÇÃO</th>\n",
       "    </tr>\n",
       "  </thead>\n",
       "  <tbody>\n",
       "    <tr>\n",
       "      <th>0</th>\n",
       "      <td>Yuan Xinyue</td>\n",
       "      <td>25</td>\n",
       "      <td>2.02</td>\n",
       "      <td>Meio de rede</td>\n",
       "    </tr>\n",
       "    <tr>\n",
       "      <th>1</th>\n",
       "      <td>Diao Linyu</td>\n",
       "      <td>28</td>\n",
       "      <td>1.83</td>\n",
       "      <td>Levantadora</td>\n",
       "    </tr>\n",
       "    <tr>\n",
       "      <th>2</th>\n",
       "      <td>Yang Hanyu</td>\n",
       "      <td>22</td>\n",
       "      <td>1.96</td>\n",
       "      <td>Meio de rede</td>\n",
       "    </tr>\n",
       "    <tr>\n",
       "      <th>3</th>\n",
       "      <td>Gao Yi</td>\n",
       "      <td>24</td>\n",
       "      <td>1.94</td>\n",
       "      <td>Meio de rede</td>\n",
       "    </tr>\n",
       "    <tr>\n",
       "      <th>4</th>\n",
       "      <td>Gong Xiangyu</td>\n",
       "      <td>25</td>\n",
       "      <td>1.88</td>\n",
       "      <td>Oposto</td>\n",
       "    </tr>\n",
       "    <tr>\n",
       "      <th>5</th>\n",
       "      <td>Wang Yuanyuan</td>\n",
       "      <td>25</td>\n",
       "      <td>1.96</td>\n",
       "      <td>Meio de rede</td>\n",
       "    </tr>\n",
       "    <tr>\n",
       "      <th>6</th>\n",
       "      <td>Jin Ye</td>\n",
       "      <td>26</td>\n",
       "      <td>1.89</td>\n",
       "      <td>Ponteira</td>\n",
       "    </tr>\n",
       "    <tr>\n",
       "      <th>7</th>\n",
       "      <td>Wang Yunlu</td>\n",
       "      <td>26</td>\n",
       "      <td>1.91</td>\n",
       "      <td>Ponteira</td>\n",
       "    </tr>\n",
       "    <tr>\n",
       "      <th>8</th>\n",
       "      <td>Wang Yizhu</td>\n",
       "      <td>21</td>\n",
       "      <td>1.90</td>\n",
       "      <td>Ponteira</td>\n",
       "    </tr>\n",
       "    <tr>\n",
       "      <th>9</th>\n",
       "      <td>Li Yingying</td>\n",
       "      <td>22</td>\n",
       "      <td>1.92</td>\n",
       "      <td>Ponteira</td>\n",
       "    </tr>\n",
       "    <tr>\n",
       "      <th>10</th>\n",
       "      <td>Wang Weiyi</td>\n",
       "      <td>27</td>\n",
       "      <td>1.75</td>\n",
       "      <td>Líbero</td>\n",
       "    </tr>\n",
       "    <tr>\n",
       "      <th>11</th>\n",
       "      <td>Ding Xia</td>\n",
       "      <td>32</td>\n",
       "      <td>1.80</td>\n",
       "      <td>Levantadora</td>\n",
       "    </tr>\n",
       "    <tr>\n",
       "      <th>12</th>\n",
       "      <td>Wang Mengjie</td>\n",
       "      <td>26</td>\n",
       "      <td>1.73</td>\n",
       "      <td>Líbero</td>\n",
       "    </tr>\n",
       "    <tr>\n",
       "      <th>13</th>\n",
       "      <td>Chen Peiyan</td>\n",
       "      <td>23</td>\n",
       "      <td>1.95</td>\n",
       "      <td>Oposto</td>\n",
       "    </tr>\n",
       "  </tbody>\n",
       "</table>\n",
       "</div>"
      ],
      "text/plain": [
       "             NOME  IDADE  ALTURA       POSIÇÃO\n",
       "0     Yuan Xinyue     25    2.02  Meio de rede\n",
       "1      Diao Linyu     28    1.83   Levantadora\n",
       "2      Yang Hanyu     22    1.96  Meio de rede\n",
       "3          Gao Yi     24    1.94  Meio de rede\n",
       "4    Gong Xiangyu     25    1.88        Oposto\n",
       "5   Wang Yuanyuan     25    1.96  Meio de rede\n",
       "6          Jin Ye     26    1.89      Ponteira\n",
       "7      Wang Yunlu     26    1.91      Ponteira\n",
       "8      Wang Yizhu     21    1.90      Ponteira\n",
       "9     Li Yingying     22    1.92      Ponteira\n",
       "10     Wang Weiyi     27    1.75        Líbero\n",
       "11       Ding Xia     32    1.80   Levantadora\n",
       "12   Wang Mengjie     26    1.73        Líbero\n",
       "13    Chen Peiyan     23    1.95        Oposto"
      ]
     },
     "metadata": {},
     "output_type": "display_data"
    }
   ],
   "source": [
    "brasil = pd.read_csv(r'Brasil.csv',sep= ',',encoding='utf-8',skipinitialspace = True)\n",
    "eua = pd.read_csv(r'Eua.csv',sep= ',',encoding='utf-8',skipinitialspace = True)\n",
    "italia = pd.read_csv(r'Italia.csv',sep= ',',encoding='utf-8',skipinitialspace = True)\n",
    "servia = pd.read_csv(r'Servia.csv',sep= ',',encoding='utf-8',skipinitialspace = True)\n",
    "china = pd.read_csv(r'China.csv',sep= ',',encoding='utf-8',skipinitialspace = True)\n",
    "display(brasil)\n",
    "display(italia)\n",
    "display(eua)\n",
    "display(servia)\n",
    "display(china)"
   ]
  },
  {
   "cell_type": "code",
   "execution_count": 4,
   "id": "5502c784",
   "metadata": {},
   "outputs": [
    {
     "name": "stdout",
     "output_type": "stream",
     "text": [
      "<class 'pandas.core.frame.DataFrame'>\n",
      "RangeIndex: 14 entries, 0 to 13\n",
      "Data columns (total 4 columns):\n",
      " #   Column   Non-Null Count  Dtype  \n",
      "---  ------   --------------  -----  \n",
      " 0   NOME     14 non-null     object \n",
      " 1   IDADE    14 non-null     int64  \n",
      " 2   ALTURA   14 non-null     float64\n",
      " 3   POSIÇÃO  14 non-null     object \n",
      "dtypes: float64(1), int64(1), object(2)\n",
      "memory usage: 576.0+ bytes\n",
      "<class 'pandas.core.frame.DataFrame'>\n",
      "RangeIndex: 14 entries, 0 to 13\n",
      "Data columns (total 4 columns):\n",
      " #   Column   Non-Null Count  Dtype  \n",
      "---  ------   --------------  -----  \n",
      " 0   NOME     14 non-null     object \n",
      " 1   IDADE    14 non-null     int64  \n",
      " 2   ALTURA   14 non-null     float64\n",
      " 3   POSIÇÃO  14 non-null     object \n",
      "dtypes: float64(1), int64(1), object(2)\n",
      "memory usage: 576.0+ bytes\n"
     ]
    }
   ],
   "source": [
    "#conferir se tá td certo\n",
    "brasil.info()\n",
    "servia.info()"
   ]
  },
  {
   "cell_type": "markdown",
   "id": "ed98b256",
   "metadata": {},
   "source": [
    "<img src=\"eua.JPG\" />"
   ]
  },
  {
   "cell_type": "code",
   "execution_count": 7,
   "id": "8d6fef8d",
   "metadata": {},
   "outputs": [
    {
     "data": {
      "image/png": "[encoded data removed]",
      "text/plain": [
       "<Figure size 1500x500 with 1 Axes>"
      ]
     },
     "metadata": {},
     "output_type": "display_data"
    },
    {
     "data": {
      "image/png": "[encoded data removed]",
      "text/plain": [
       "<Figure size 1500x500 with 1 Axes>"
      ]
     },
     "metadata": {},
     "output_type": "display_data"
    }
   ],
   "source": [
    "eua=pd.DataFrame(eua,columns=['Nº', 'NOME', 'IDADE', 'ALTURA', 'POSIÇÃO'])\n",
    "eua['IDADE'].hist(bins=7, rwidth=0.90, color=\"darkblue\")\n",
    "plt.xlim(20,32) \n",
    "plt.ylim(0,7)\n",
    "plt.title(\"EUA - Idade\", fontsize = 16)\n",
    "plt.show()\n",
    "\n",
    "eua['ALTURA'].hist(bins=5, rwidth=0.90, color=\"darkblue\")\n",
    "plt.xlim(1.65,2.00) \n",
    "plt.ylim(0,7)\n",
    "plt.title(\"EUA - Altura\", fontsize = 16)\n",
    "plt.show()"
   ]
  },
  {
   "cell_type": "code",
   "execution_count": 8,
   "id": "a3b34ba7",
   "metadata": {},
   "outputs": [
    {
     "data": {
      "text/plain": [
       "1.87"
      ]
     },
     "execution_count": 8,
     "metadata": {},
     "output_type": "execute_result"
    }
   ],
   "source": [
    "#média de altura Eua\n",
    "round(eua.ALTURA.mean(), 2)"
   ]
  },
  {
   "cell_type": "code",
   "execution_count": 9,
   "id": "e6886f34",
   "metadata": {},
   "outputs": [
    {
     "data": {
      "text/plain": [
       "26.21"
      ]
     },
     "execution_count": 9,
     "metadata": {},
     "output_type": "execute_result"
    }
   ],
   "source": [
    "#média de idade Eua\n",
    "round(eua.IDADE.mean(), 2)"
   ]
  },
  {
   "cell_type": "code",
   "execution_count": 10,
   "id": "21d4239d",
   "metadata": {},
   "outputs": [
    {
     "data": {
      "image/png": "[encoded data removed]",
      "text/plain": [
       "<Figure size 1500x500 with 1 Axes>"
      ]
     },
     "metadata": {},
     "output_type": "display_data"
    }
   ],
   "source": [
    "# Variação de idade EUA\n",
    "plt.title('Analisando a variação de idade')\n",
    "sns.boxplot(data=eua, x='IDADE');"
   ]
  },
  {
   "cell_type": "code",
   "execution_count": 8,
   "id": "f49ecf34",
   "metadata": {},
   "outputs": [
    {
     "data": {
      "image/png": "[encoded data removed]",
      "text/plain": [
       "<Figure size 1500x500 with 1 Axes>"
      ]
     },
     "metadata": {},
     "output_type": "display_data"
    }
   ],
   "source": [
    "# Variação de altura EUA\n",
    "plt.title('Analisando a variação de altura')\n",
    "sns.boxplot(data=eua, x='ALTURA');"
   ]
  },
  {
   "cell_type": "code",
   "execution_count": 9,
   "id": "5330bdab",
   "metadata": {},
   "outputs": [
    {
     "data": {
      "text/plain": [
       "POSIÇÃO\n",
       "Oposto          1.93\n",
       "Meio de rede    1.89\n",
       "Ponteira        1.88\n",
       "Levantadora     1.86\n",
       "Líbero          1.72\n",
       "Name: ALTURA, dtype: float64"
      ]
     },
     "execution_count": 9,
     "metadata": {},
     "output_type": "execute_result"
    }
   ],
   "source": [
    "#média de altura por posição EUA\n",
    "eua.groupby('POSIÇÃO')['ALTURA'].mean().sort_values(ascending=False).round(2)"
   ]
  },
  {
   "cell_type": "code",
   "execution_count": 10,
   "id": "2eb56959",
   "metadata": {},
   "outputs": [
    {
     "data": {
      "text/plain": [
       "POSIÇÃO\n",
       "Oposto          27.00\n",
       "Ponteira        26.75\n",
       "Levantadora     26.00\n",
       "Meio de rede    26.00\n",
       "Líbero          25.00\n",
       "Name: IDADE, dtype: float64"
      ]
     },
     "execution_count": 10,
     "metadata": {},
     "output_type": "execute_result"
    }
   ],
   "source": [
    "#média de idade por posição EUA\n",
    "eua.groupby('POSIÇÃO')['IDADE'].mean().sort_values(ascending=False).round(2)"
   ]
  },
  {
   "cell_type": "code",
   "execution_count": 11,
   "id": "85f7699f",
   "metadata": {},
   "outputs": [
    {
     "data": {
      "text/plain": [
       "NOME\n",
       "Robinson         30\n",
       "Drews            28\n",
       "Carlini          27\n",
       "Ogbogu           27\n",
       "Tapp             27\n",
       "Washington       27\n",
       "Wilhite          27\n",
       "Cuttino          26\n",
       "Frantti          26\n",
       "Wong-Orantes     26\n",
       "Poulter          25\n",
       "Bajema           24\n",
       "Hentz            24\n",
       "Stevenson        23\n",
       "Name: IDADE, dtype: int64"
      ]
     },
     "execution_count": 11,
     "metadata": {},
     "output_type": "execute_result"
    }
   ],
   "source": [
    "#ordenar por jogadora mais velha eua\n",
    "eua.groupby('NOME')['IDADE'].max().sort_values(ascending=False)"
   ]
  },
  {
   "cell_type": "code",
   "execution_count": 12,
   "id": "92d677d9",
   "metadata": {},
   "outputs": [
    {
     "data": {
      "text/plain": [
       "NOME\n",
       "Cuttino          1.95\n",
       "Drews            1.91\n",
       "Frantti          1.91\n",
       "Tapp             1.91\n",
       "Bajema           1.90\n",
       "Washington       1.90\n",
       "Ogbogu           1.88\n",
       "Poulter          1.88\n",
       "Robinson         1.88\n",
       "Stevenson        1.88\n",
       "Carlini          1.85\n",
       "Wilhite          1.85\n",
       "Hentz            1.75\n",
       "Wong-Orantes     1.68\n",
       "Name: ALTURA, dtype: float64"
      ]
     },
     "execution_count": 12,
     "metadata": {},
     "output_type": "execute_result"
    }
   ],
   "source": [
    "#ordenar por jogadora mais alta eua\n",
    "eua.groupby('NOME')['ALTURA'].max().sort_values(ascending=False)"
   ]
  },
  {
   "cell_type": "code",
   "execution_count": 52,
   "id": "289b0f93",
   "metadata": {},
   "outputs": [
    {
     "data": {
      "text/html": [
       "<div>\n",
       "<style scoped>\n",
       "    .dataframe tbody tr th:only-of-type {\n",
       "        vertical-align: middle;\n",
       "    }\n",
       "\n",
       "    .dataframe tbody tr th {\n",
       "        vertical-align: top;\n",
       "    }\n",
       "\n",
       "    .dataframe thead th {\n",
       "        text-align: right;\n",
       "    }\n",
       "</style>\n",
       "<table border=\"1\" class=\"dataframe\">\n",
       "  <thead>\n",
       "    <tr style=\"text-align: right;\">\n",
       "      <th></th>\n",
       "      <th>NOME</th>\n",
       "      <th>IDADE</th>\n",
       "      <th>ALTURA</th>\n",
       "      <th>POSIÇÃO</th>\n",
       "      <th>FAIXA ETÁRIA</th>\n",
       "    </tr>\n",
       "  </thead>\n",
       "  <tbody>\n",
       "    <tr>\n",
       "      <th>0</th>\n",
       "      <td>Poulter</td>\n",
       "      <td>25</td>\n",
       "      <td>1.88</td>\n",
       "      <td>Levantadora</td>\n",
       "      <td>Novata</td>\n",
       "    </tr>\n",
       "    <tr>\n",
       "      <th>1</th>\n",
       "      <td>Wong-Orantes</td>\n",
       "      <td>26</td>\n",
       "      <td>1.68</td>\n",
       "      <td>Líbero</td>\n",
       "      <td>Experiente</td>\n",
       "    </tr>\n",
       "    <tr>\n",
       "      <th>2</th>\n",
       "      <td>Hentz</td>\n",
       "      <td>24</td>\n",
       "      <td>1.75</td>\n",
       "      <td>Líbero</td>\n",
       "      <td>Novata</td>\n",
       "    </tr>\n",
       "    <tr>\n",
       "      <th>3</th>\n",
       "      <td>Carlini</td>\n",
       "      <td>27</td>\n",
       "      <td>1.85</td>\n",
       "      <td>Levantadora</td>\n",
       "      <td>Experiente</td>\n",
       "    </tr>\n",
       "    <tr>\n",
       "      <th>4</th>\n",
       "      <td>Tapp</td>\n",
       "      <td>27</td>\n",
       "      <td>1.91</td>\n",
       "      <td>Meio de rede</td>\n",
       "      <td>Experiente</td>\n",
       "    </tr>\n",
       "    <tr>\n",
       "      <th>5</th>\n",
       "      <td>Drews</td>\n",
       "      <td>28</td>\n",
       "      <td>1.91</td>\n",
       "      <td>Oposto</td>\n",
       "      <td>Experiente</td>\n",
       "    </tr>\n",
       "    <tr>\n",
       "      <th>6</th>\n",
       "      <td>Wilhite</td>\n",
       "      <td>27</td>\n",
       "      <td>1.85</td>\n",
       "      <td>Ponteira</td>\n",
       "      <td>Experiente</td>\n",
       "    </tr>\n",
       "    <tr>\n",
       "      <th>7</th>\n",
       "      <td>Washington</td>\n",
       "      <td>27</td>\n",
       "      <td>1.90</td>\n",
       "      <td>Meio de rede</td>\n",
       "      <td>Experiente</td>\n",
       "    </tr>\n",
       "    <tr>\n",
       "      <th>8</th>\n",
       "      <td>Bajema</td>\n",
       "      <td>24</td>\n",
       "      <td>1.90</td>\n",
       "      <td>Ponteira</td>\n",
       "      <td>Novata</td>\n",
       "    </tr>\n",
       "    <tr>\n",
       "      <th>9</th>\n",
       "      <td>Cuttino</td>\n",
       "      <td>26</td>\n",
       "      <td>1.95</td>\n",
       "      <td>Oposto</td>\n",
       "      <td>Experiente</td>\n",
       "    </tr>\n",
       "    <tr>\n",
       "      <th>10</th>\n",
       "      <td>Robinson</td>\n",
       "      <td>30</td>\n",
       "      <td>1.88</td>\n",
       "      <td>Ponteira</td>\n",
       "      <td>Experiente</td>\n",
       "    </tr>\n",
       "    <tr>\n",
       "      <th>11</th>\n",
       "      <td>Ogbogu</td>\n",
       "      <td>27</td>\n",
       "      <td>1.88</td>\n",
       "      <td>Meio de rede</td>\n",
       "      <td>Experiente</td>\n",
       "    </tr>\n",
       "    <tr>\n",
       "      <th>12</th>\n",
       "      <td>Frantti</td>\n",
       "      <td>26</td>\n",
       "      <td>1.91</td>\n",
       "      <td>Ponteira</td>\n",
       "      <td>Experiente</td>\n",
       "    </tr>\n",
       "    <tr>\n",
       "      <th>13</th>\n",
       "      <td>Stevenson</td>\n",
       "      <td>23</td>\n",
       "      <td>1.88</td>\n",
       "      <td>Meio de rede</td>\n",
       "      <td>Novata</td>\n",
       "    </tr>\n",
       "  </tbody>\n",
       "</table>\n",
       "</div>"
      ],
      "text/plain": [
       "             NOME  IDADE  ALTURA       POSIÇÃO FAIXA ETÁRIA\n",
       "0        Poulter      25    1.88   Levantadora       Novata\n",
       "1   Wong-Orantes      26    1.68        Líbero   Experiente\n",
       "2           Hentz     24    1.75        Líbero       Novata\n",
       "3         Carlini     27    1.85   Levantadora   Experiente\n",
       "4            Tapp     27    1.91  Meio de rede   Experiente\n",
       "5           Drews     28    1.91        Oposto   Experiente\n",
       "6         Wilhite     27    1.85      Ponteira   Experiente\n",
       "7      Washington     27    1.90  Meio de rede   Experiente\n",
       "8          Bajema     24    1.90      Ponteira       Novata\n",
       "9         Cuttino     26    1.95        Oposto   Experiente\n",
       "10       Robinson     30    1.88      Ponteira   Experiente\n",
       "11         Ogbogu     27    1.88  Meio de rede   Experiente\n",
       "12        Frantti     26    1.91      Ponteira   Experiente\n",
       "13      Stevenson     23    1.88  Meio de rede       Novata"
      ]
     },
     "execution_count": 52,
     "metadata": {},
     "output_type": "execute_result"
    }
   ],
   "source": [
    "#criando coluna para mostrar novatas e experientes(novatas <= 25)\n",
    "import sys\n",
    "\n",
    "eua['FAIXA ETÁRIA']=pd.cut(\n",
    "    eua['IDADE'],\n",
    "    bins=[0, 25, 33, sys.maxsize],\n",
    "    labels=['Novata', 'Experiente', 'Veterana']\n",
    "\n",
    ")\n",
    "\n",
    "eua"
   ]
  },
  {
   "cell_type": "code",
   "execution_count": 12,
   "id": "380d7ba1",
   "metadata": {},
   "outputs": [
    {
     "data": {
      "image/png": "[encoded data removed]",
      "text/plain": [
       "<Figure size 1500x500 with 1 Axes>"
      ]
     },
     "metadata": {},
     "output_type": "display_data"
    }
   ],
   "source": [
    "eua['FAIXA ETÁRIA'].value_counts().plot(kind='pie',autopct='%1.1f%%',startangle=190)\n",
    "plt.legend(eua['FAIXA ETÁRIA'].value_counts(), title=\"Qtde em nº\",  bbox_to_anchor=(1, 1))\n",
    "plt.tight_layout()"
   ]
  },
  {
   "cell_type": "code",
   "execution_count": 14,
   "id": "abee701f",
   "metadata": {},
   "outputs": [
    {
     "data": {
      "text/plain": [
       "Nº              14\n",
       "NOME             0\n",
       "IDADE            0\n",
       "ALTURA           0\n",
       "POSIÇÃO          0\n",
       "FAIXA ETÁRIA     0\n",
       "dtype: int64"
      ]
     },
     "execution_count": 14,
     "metadata": {},
     "output_type": "execute_result"
    }
   ],
   "source": [
    "#a nova tab como visto acima, a coluna Nª ficou com valores NaN\n",
    "eua.isnull().sum()"
   ]
  },
  {
   "cell_type": "code",
   "execution_count": 53,
   "id": "a8cb6a56",
   "metadata": {},
   "outputs": [
    {
     "name": "stdout",
     "output_type": "stream",
     "text": [
      "             NOME  IDADE  ALTURA       POSIÇÃO FAIXA ETÁRIA  PAÍS\n",
      "0        Poulter      25    1.88   Levantadora       Novata   NaN\n",
      "1   Wong-Orantes      26    1.68        Líbero   Experiente   NaN\n",
      "2           Hentz     24    1.75        Líbero       Novata   NaN\n",
      "3         Carlini     27    1.85   Levantadora   Experiente   NaN\n",
      "4            Tapp     27    1.91  Meio de rede   Experiente   NaN\n",
      "5           Drews     28    1.91        Oposto   Experiente   NaN\n",
      "6         Wilhite     27    1.85      Ponteira   Experiente   NaN\n",
      "7      Washington     27    1.90  Meio de rede   Experiente   NaN\n",
      "8          Bajema     24    1.90      Ponteira       Novata   NaN\n",
      "9         Cuttino     26    1.95        Oposto   Experiente   NaN\n",
      "10       Robinson     30    1.88      Ponteira   Experiente   NaN\n",
      "11         Ogbogu     27    1.88  Meio de rede   Experiente   NaN\n",
      "12        Frantti     26    1.91      Ponteira   Experiente   NaN\n",
      "13      Stevenson     23    1.88  Meio de rede       Novata   NaN\n"
     ]
    }
   ],
   "source": [
    "#como mais pra frente vamos concatená-la com as outras tabelas, seria interessante criar uma coluna pra colocar o país das jogadoras\n",
    "\n",
    "eua = pd.DataFrame(eua,columns=['NOME','IDADE','ALTURA','POSIÇÃO','FAIXA ETÁRIA']) \n",
    "eua = eua.reindex(columns = eua.columns.tolist() + ['PAÍS'])\n",
    "print(eua)"
   ]
  },
  {
   "cell_type": "code",
   "execution_count": 54,
   "id": "cc1c5154",
   "metadata": {},
   "outputs": [
    {
     "data": {
      "text/html": [
       "<div>\n",
       "<style scoped>\n",
       "    .dataframe tbody tr th:only-of-type {\n",
       "        vertical-align: middle;\n",
       "    }\n",
       "\n",
       "    .dataframe tbody tr th {\n",
       "        vertical-align: top;\n",
       "    }\n",
       "\n",
       "    .dataframe thead th {\n",
       "        text-align: right;\n",
       "    }\n",
       "</style>\n",
       "<table border=\"1\" class=\"dataframe\">\n",
       "  <thead>\n",
       "    <tr style=\"text-align: right;\">\n",
       "      <th></th>\n",
       "      <th>NOME</th>\n",
       "      <th>IDADE</th>\n",
       "      <th>ALTURA</th>\n",
       "      <th>POSIÇÃO</th>\n",
       "      <th>FAIXA ETÁRIA</th>\n",
       "      <th>PAÍS</th>\n",
       "    </tr>\n",
       "  </thead>\n",
       "  <tbody>\n",
       "    <tr>\n",
       "      <th>0</th>\n",
       "      <td>Poulter</td>\n",
       "      <td>25</td>\n",
       "      <td>1.88</td>\n",
       "      <td>Levantadora</td>\n",
       "      <td>Novata</td>\n",
       "      <td>Eua</td>\n",
       "    </tr>\n",
       "    <tr>\n",
       "      <th>1</th>\n",
       "      <td>Wong-Orantes</td>\n",
       "      <td>26</td>\n",
       "      <td>1.68</td>\n",
       "      <td>Líbero</td>\n",
       "      <td>Experiente</td>\n",
       "      <td>Eua</td>\n",
       "    </tr>\n",
       "    <tr>\n",
       "      <th>2</th>\n",
       "      <td>Hentz</td>\n",
       "      <td>24</td>\n",
       "      <td>1.75</td>\n",
       "      <td>Líbero</td>\n",
       "      <td>Novata</td>\n",
       "      <td>Eua</td>\n",
       "    </tr>\n",
       "    <tr>\n",
       "      <th>3</th>\n",
       "      <td>Carlini</td>\n",
       "      <td>27</td>\n",
       "      <td>1.85</td>\n",
       "      <td>Levantadora</td>\n",
       "      <td>Experiente</td>\n",
       "      <td>Eua</td>\n",
       "    </tr>\n",
       "    <tr>\n",
       "      <th>4</th>\n",
       "      <td>Tapp</td>\n",
       "      <td>27</td>\n",
       "      <td>1.91</td>\n",
       "      <td>Meio de rede</td>\n",
       "      <td>Experiente</td>\n",
       "      <td>Eua</td>\n",
       "    </tr>\n",
       "    <tr>\n",
       "      <th>5</th>\n",
       "      <td>Drews</td>\n",
       "      <td>28</td>\n",
       "      <td>1.91</td>\n",
       "      <td>Oposto</td>\n",
       "      <td>Experiente</td>\n",
       "      <td>Eua</td>\n",
       "    </tr>\n",
       "    <tr>\n",
       "      <th>6</th>\n",
       "      <td>Wilhite</td>\n",
       "      <td>27</td>\n",
       "      <td>1.85</td>\n",
       "      <td>Ponteira</td>\n",
       "      <td>Experiente</td>\n",
       "      <td>Eua</td>\n",
       "    </tr>\n",
       "    <tr>\n",
       "      <th>7</th>\n",
       "      <td>Washington</td>\n",
       "      <td>27</td>\n",
       "      <td>1.90</td>\n",
       "      <td>Meio de rede</td>\n",
       "      <td>Experiente</td>\n",
       "      <td>Eua</td>\n",
       "    </tr>\n",
       "    <tr>\n",
       "      <th>8</th>\n",
       "      <td>Bajema</td>\n",
       "      <td>24</td>\n",
       "      <td>1.90</td>\n",
       "      <td>Ponteira</td>\n",
       "      <td>Novata</td>\n",
       "      <td>Eua</td>\n",
       "    </tr>\n",
       "    <tr>\n",
       "      <th>9</th>\n",
       "      <td>Cuttino</td>\n",
       "      <td>26</td>\n",
       "      <td>1.95</td>\n",
       "      <td>Oposto</td>\n",
       "      <td>Experiente</td>\n",
       "      <td>Eua</td>\n",
       "    </tr>\n",
       "    <tr>\n",
       "      <th>10</th>\n",
       "      <td>Robinson</td>\n",
       "      <td>30</td>\n",
       "      <td>1.88</td>\n",
       "      <td>Ponteira</td>\n",
       "      <td>Experiente</td>\n",
       "      <td>Eua</td>\n",
       "    </tr>\n",
       "    <tr>\n",
       "      <th>11</th>\n",
       "      <td>Ogbogu</td>\n",
       "      <td>27</td>\n",
       "      <td>1.88</td>\n",
       "      <td>Meio de rede</td>\n",
       "      <td>Experiente</td>\n",
       "      <td>Eua</td>\n",
       "    </tr>\n",
       "    <tr>\n",
       "      <th>12</th>\n",
       "      <td>Frantti</td>\n",
       "      <td>26</td>\n",
       "      <td>1.91</td>\n",
       "      <td>Ponteira</td>\n",
       "      <td>Experiente</td>\n",
       "      <td>Eua</td>\n",
       "    </tr>\n",
       "    <tr>\n",
       "      <th>13</th>\n",
       "      <td>Stevenson</td>\n",
       "      <td>23</td>\n",
       "      <td>1.88</td>\n",
       "      <td>Meio de rede</td>\n",
       "      <td>Novata</td>\n",
       "      <td>Eua</td>\n",
       "    </tr>\n",
       "  </tbody>\n",
       "</table>\n",
       "</div>"
      ],
      "text/plain": [
       "             NOME  IDADE  ALTURA       POSIÇÃO FAIXA ETÁRIA PAÍS\n",
       "0        Poulter      25    1.88   Levantadora       Novata  Eua\n",
       "1   Wong-Orantes      26    1.68        Líbero   Experiente  Eua\n",
       "2           Hentz     24    1.75        Líbero       Novata  Eua\n",
       "3         Carlini     27    1.85   Levantadora   Experiente  Eua\n",
       "4            Tapp     27    1.91  Meio de rede   Experiente  Eua\n",
       "5           Drews     28    1.91        Oposto   Experiente  Eua\n",
       "6         Wilhite     27    1.85      Ponteira   Experiente  Eua\n",
       "7      Washington     27    1.90  Meio de rede   Experiente  Eua\n",
       "8          Bajema     24    1.90      Ponteira       Novata  Eua\n",
       "9         Cuttino     26    1.95        Oposto   Experiente  Eua\n",
       "10       Robinson     30    1.88      Ponteira   Experiente  Eua\n",
       "11         Ogbogu     27    1.88  Meio de rede   Experiente  Eua\n",
       "12        Frantti     26    1.91      Ponteira   Experiente  Eua\n",
       "13      Stevenson     23    1.88  Meio de rede       Novata  Eua"
      ]
     },
     "execution_count": 54,
     "metadata": {},
     "output_type": "execute_result"
    }
   ],
   "source": [
    "eua[\"PAÍS\"].fillna(\"Eua\", inplace = True)\n",
    "eua"
   ]
  },
  {
   "cell_type": "markdown",
   "id": "8cc596ef",
   "metadata": {},
   "source": [
    "<img src=\"italia.JPG\" />"
   ]
  },
  {
   "cell_type": "code",
   "execution_count": 44,
   "id": "1e15aaa0",
   "metadata": {},
   "outputs": [
    {
     "data": {
      "image/png": "[encoded data removed]",
      "text/plain": [
       "<Figure size 1500x500 with 1 Axes>"
      ]
     },
     "metadata": {},
     "output_type": "display_data"
    },
    {
     "data": {
      "image/png": "[encoded data removed]",
      "text/plain": [
       "<Figure size 1500x500 with 1 Axes>"
      ]
     },
     "metadata": {},
     "output_type": "display_data"
    }
   ],
   "source": [
    "italia=pd.DataFrame(italia,columns=['Nº', 'NOME', 'IDADE', 'ALTURA', 'POSIÇÃO'])\n",
    "italia['IDADE'].hist(bins=7, rwidth=0.90, color=\"skyblue\")\n",
    "plt.xlim(20,36) \n",
    "plt.ylim(0,7)\n",
    "plt.title(\"Itália - Idade\", fontsize = 16)\n",
    "plt.show()\n",
    "\n",
    "italia['ALTURA'].hist(bins=5, rwidth=0.90, color=\"skyblue\")\n",
    "plt.xlim(1.65,2.00) \n",
    "plt.ylim(0,7)\n",
    "plt.title(\"Itália - Altura\", fontsize = 16)\n",
    "plt.show()"
   ]
  },
  {
   "cell_type": "code",
   "execution_count": 45,
   "id": "231e8f2c",
   "metadata": {},
   "outputs": [
    {
     "data": {
      "text/plain": [
       "1.84"
      ]
     },
     "execution_count": 45,
     "metadata": {},
     "output_type": "execute_result"
    }
   ],
   "source": [
    "#média de altura Italia\n",
    "round(italia.ALTURA.mean(), 2)"
   ]
  },
  {
   "cell_type": "code",
   "execution_count": 46,
   "id": "288da073",
   "metadata": {},
   "outputs": [
    {
     "data": {
      "text/plain": [
       "25.86"
      ]
     },
     "execution_count": 46,
     "metadata": {},
     "output_type": "execute_result"
    }
   ],
   "source": [
    "#média de idade italia\n",
    "round(italia.IDADE.mean(), 2)"
   ]
  },
  {
   "cell_type": "code",
   "execution_count": 47,
   "id": "5232c4ef",
   "metadata": {},
   "outputs": [
    {
     "data": {
      "image/png": "[encoded data removed]",
      "text/plain": [
       "<Figure size 1500x500 with 1 Axes>"
      ]
     },
     "metadata": {},
     "output_type": "display_data"
    }
   ],
   "source": [
    "# Variação de idade italia\n",
    "plt.title('Analisando a variação de idade')\n",
    "sns.boxplot(data=italia, x='IDADE');"
   ]
  },
  {
   "cell_type": "code",
   "execution_count": 48,
   "id": "2978bd6b",
   "metadata": {},
   "outputs": [
    {
     "data": {
      "image/png": "[encoded data removed]",
      "text/plain": [
       "<Figure size 1500x500 with 1 Axes>"
      ]
     },
     "metadata": {},
     "output_type": "display_data"
    }
   ],
   "source": [
    "# Variação de altura Itália\n",
    "plt.title('Analisando a variação de altura')\n",
    "sns.boxplot(data=italia, x='ALTURA');"
   ]
  },
  {
   "cell_type": "code",
   "execution_count": 49,
   "id": "edcc7b7e",
   "metadata": {},
   "outputs": [
    {
     "data": {
      "text/plain": [
       "POSIÇÃO\n",
       "Meio de rede    1.91\n",
       "Oposto          1.86\n",
       "Ponteira        1.84\n",
       "Levantadora     1.80\n",
       "Líbero          1.72\n",
       "Name: ALTURA, dtype: float64"
      ]
     },
     "execution_count": 49,
     "metadata": {},
     "output_type": "execute_result"
    }
   ],
   "source": [
    "#média de altura por posição Italia\n",
    "italia.groupby('POSIÇÃO')['ALTURA'].mean().sort_values(ascending=False).round(2)"
   ]
  },
  {
   "cell_type": "code",
   "execution_count": 50,
   "id": "d315c16a",
   "metadata": {},
   "outputs": [
    {
     "data": {
      "text/plain": [
       "POSIÇÃO\n",
       "Líbero          28.50\n",
       "Ponteira        26.75\n",
       "Meio de rede    25.50\n",
       "Levantadora     25.00\n",
       "Oposto          23.00\n",
       "Name: IDADE, dtype: float64"
      ]
     },
     "execution_count": 50,
     "metadata": {},
     "output_type": "execute_result"
    }
   ],
   "source": [
    "#média de idade por posição Italia\n",
    "italia.groupby('POSIÇÃO')['IDADE'].mean().sort_values(ascending=False).round(2)"
   ]
  },
  {
   "cell_type": "code",
   "execution_count": 51,
   "id": "84a77b72",
   "metadata": {},
   "outputs": [
    {
     "data": {
      "text/plain": [
       "NOME\n",
       "De Gennaro     35\n",
       "Gennari        30\n",
       "Bosetti        28\n",
       "Chirichella    28\n",
       "Sylla          27\n",
       "Bonifacio      26\n",
       "Danesi         26\n",
       "Malinov        26\n",
       "Orro           24\n",
       "Egonu          23\n",
       "Nwakalor       23\n",
       "Fersino        22\n",
       "Lubian         22\n",
       "Pietrini       22\n",
       "Name: IDADE, dtype: int64"
      ]
     },
     "execution_count": 51,
     "metadata": {},
     "output_type": "execute_result"
    }
   ],
   "source": [
    "#ordenar por jogadora mais velha\n",
    "italia.groupby('NOME')['IDADE'].max().sort_values(ascending=False)"
   ]
  },
  {
   "cell_type": "code",
   "execution_count": 52,
   "id": "774adacc",
   "metadata": {},
   "outputs": [
    {
     "data": {
      "text/plain": [
       "NOME\n",
       "Danesi         1.95\n",
       "Egonu          1.93\n",
       "Lubian         1.93\n",
       "Chirichella    1.91\n",
       "Pietrini       1.88\n",
       "Bonifacio      1.86\n",
       "Gennari        1.84\n",
       "Sylla          1.84\n",
       "Malinov        1.82\n",
       "Bosetti        1.79\n",
       "Nwakalor       1.79\n",
       "Orro           1.78\n",
       "De Gennaro     1.74\n",
       "Fersino        1.69\n",
       "Name: ALTURA, dtype: float64"
      ]
     },
     "execution_count": 52,
     "metadata": {},
     "output_type": "execute_result"
    }
   ],
   "source": [
    "#ordenar por jogadora mais alta\n",
    "italia.groupby('NOME')['ALTURA'].max().sort_values(ascending=False)"
   ]
  },
  {
   "cell_type": "code",
   "execution_count": 36,
   "id": "87e198e1",
   "metadata": {},
   "outputs": [
    {
     "data": {
      "text/html": [
       "<div>\n",
       "<style scoped>\n",
       "    .dataframe tbody tr th:only-of-type {\n",
       "        vertical-align: middle;\n",
       "    }\n",
       "\n",
       "    .dataframe tbody tr th {\n",
       "        vertical-align: top;\n",
       "    }\n",
       "\n",
       "    .dataframe thead th {\n",
       "        text-align: right;\n",
       "    }\n",
       "</style>\n",
       "<table border=\"1\" class=\"dataframe\">\n",
       "  <thead>\n",
       "    <tr style=\"text-align: right;\">\n",
       "      <th></th>\n",
       "      <th>NOME</th>\n",
       "      <th>IDADE</th>\n",
       "      <th>ALTURA</th>\n",
       "      <th>POSIÇÃO</th>\n",
       "      <th>FAIXA ETÁRIA</th>\n",
       "    </tr>\n",
       "  </thead>\n",
       "  <tbody>\n",
       "    <tr>\n",
       "      <th>0</th>\n",
       "      <td>Lubian</td>\n",
       "      <td>22</td>\n",
       "      <td>1.93</td>\n",
       "      <td>Meio de rede</td>\n",
       "      <td>Novata</td>\n",
       "    </tr>\n",
       "    <tr>\n",
       "      <th>1</th>\n",
       "      <td>Gennari</td>\n",
       "      <td>30</td>\n",
       "      <td>1.84</td>\n",
       "      <td>Ponteira</td>\n",
       "      <td>Experiente</td>\n",
       "    </tr>\n",
       "    <tr>\n",
       "      <th>2</th>\n",
       "      <td>Bonifacio</td>\n",
       "      <td>26</td>\n",
       "      <td>1.86</td>\n",
       "      <td>Meio de rede</td>\n",
       "      <td>Experiente</td>\n",
       "    </tr>\n",
       "    <tr>\n",
       "      <th>3</th>\n",
       "      <td>Malinov</td>\n",
       "      <td>26</td>\n",
       "      <td>1.82</td>\n",
       "      <td>Levantadora</td>\n",
       "      <td>Experiente</td>\n",
       "    </tr>\n",
       "    <tr>\n",
       "      <th>4</th>\n",
       "      <td>De Gennaro</td>\n",
       "      <td>35</td>\n",
       "      <td>1.74</td>\n",
       "      <td>Líbero</td>\n",
       "      <td>Veterana</td>\n",
       "    </tr>\n",
       "    <tr>\n",
       "      <th>5</th>\n",
       "      <td>Fersino</td>\n",
       "      <td>22</td>\n",
       "      <td>1.69</td>\n",
       "      <td>Líbero</td>\n",
       "      <td>Novata</td>\n",
       "    </tr>\n",
       "    <tr>\n",
       "      <th>6</th>\n",
       "      <td>Orro</td>\n",
       "      <td>24</td>\n",
       "      <td>1.78</td>\n",
       "      <td>Levantadora</td>\n",
       "      <td>Novata</td>\n",
       "    </tr>\n",
       "    <tr>\n",
       "      <th>7</th>\n",
       "      <td>Bosetti</td>\n",
       "      <td>28</td>\n",
       "      <td>1.79</td>\n",
       "      <td>Ponteira</td>\n",
       "      <td>Experiente</td>\n",
       "    </tr>\n",
       "    <tr>\n",
       "      <th>8</th>\n",
       "      <td>Chirichella</td>\n",
       "      <td>28</td>\n",
       "      <td>1.91</td>\n",
       "      <td>Meio de rede</td>\n",
       "      <td>Experiente</td>\n",
       "    </tr>\n",
       "    <tr>\n",
       "      <th>9</th>\n",
       "      <td>Danesi</td>\n",
       "      <td>26</td>\n",
       "      <td>1.95</td>\n",
       "      <td>Meio de rede</td>\n",
       "      <td>Experiente</td>\n",
       "    </tr>\n",
       "    <tr>\n",
       "      <th>10</th>\n",
       "      <td>Pietrini</td>\n",
       "      <td>22</td>\n",
       "      <td>1.88</td>\n",
       "      <td>Ponteira</td>\n",
       "      <td>Novata</td>\n",
       "    </tr>\n",
       "    <tr>\n",
       "      <th>11</th>\n",
       "      <td>Nwakalor</td>\n",
       "      <td>23</td>\n",
       "      <td>1.79</td>\n",
       "      <td>Oposto</td>\n",
       "      <td>Novata</td>\n",
       "    </tr>\n",
       "    <tr>\n",
       "      <th>12</th>\n",
       "      <td>Sylla</td>\n",
       "      <td>27</td>\n",
       "      <td>1.84</td>\n",
       "      <td>Ponteira</td>\n",
       "      <td>Experiente</td>\n",
       "    </tr>\n",
       "    <tr>\n",
       "      <th>13</th>\n",
       "      <td>Egonu</td>\n",
       "      <td>23</td>\n",
       "      <td>1.93</td>\n",
       "      <td>Oposto</td>\n",
       "      <td>Novata</td>\n",
       "    </tr>\n",
       "  </tbody>\n",
       "</table>\n",
       "</div>"
      ],
      "text/plain": [
       "           NOME  IDADE  ALTURA       POSIÇÃO FAIXA ETÁRIA\n",
       "0        Lubian     22    1.93  Meio de rede       Novata\n",
       "1       Gennari     30    1.84      Ponteira   Experiente\n",
       "2     Bonifacio     26    1.86  Meio de rede   Experiente\n",
       "3       Malinov     26    1.82   Levantadora   Experiente\n",
       "4    De Gennaro     35    1.74        Líbero     Veterana\n",
       "5       Fersino     22    1.69        Líbero       Novata\n",
       "6          Orro     24    1.78   Levantadora       Novata\n",
       "7       Bosetti     28    1.79      Ponteira   Experiente\n",
       "8   Chirichella     28    1.91  Meio de rede   Experiente\n",
       "9        Danesi     26    1.95  Meio de rede   Experiente\n",
       "10     Pietrini     22    1.88      Ponteira       Novata\n",
       "11     Nwakalor     23    1.79        Oposto       Novata\n",
       "12        Sylla     27    1.84      Ponteira   Experiente\n",
       "13        Egonu     23    1.93        Oposto       Novata"
      ]
     },
     "execution_count": 36,
     "metadata": {},
     "output_type": "execute_result"
    }
   ],
   "source": [
    "#criando coluna para mostrar novatas e experientes(novatas <= 25)\n",
    "import sys\n",
    "\n",
    "italia['FAIXA ETÁRIA']=pd.cut(\n",
    "    italia['IDADE'],\n",
    "    bins=[0, 25, 33, sys.maxsize],\n",
    "    labels=['Novata', 'Experiente', 'Veterana']\n",
    "\n",
    ")\n",
    "\n",
    "italia"
   ]
  },
  {
   "cell_type": "code",
   "execution_count": 37,
   "id": "5835775f",
   "metadata": {},
   "outputs": [
    {
     "data": {
      "image/png": "[encoded data removed]",
      "text/plain": [
       "<Figure size 1500x500 with 1 Axes>"
      ]
     },
     "metadata": {},
     "output_type": "display_data"
    }
   ],
   "source": [
    "italia['FAIXA ETÁRIA'].value_counts().plot(kind='pie',autopct='%1.1f%%',startangle=60)\n",
    "plt.legend(italia['FAIXA ETÁRIA'].value_counts(), title=\"Qtde em nº\",  bbox_to_anchor=(1, 1))\n",
    "plt.tight_layout()"
   ]
  },
  {
   "cell_type": "code",
   "execution_count": 41,
   "id": "9dd50d5b",
   "metadata": {},
   "outputs": [
    {
     "name": "stdout",
     "output_type": "stream",
     "text": [
      "           NOME  IDADE  ALTURA       POSIÇÃO FAIXA ETÁRIA  PAÍS\n",
      "0        Lubian     22    1.93  Meio de rede       Novata   NaN\n",
      "1       Gennari     30    1.84      Ponteira   Experiente   NaN\n",
      "2     Bonifacio     26    1.86  Meio de rede   Experiente   NaN\n",
      "3       Malinov     26    1.82   Levantadora   Experiente   NaN\n",
      "4    De Gennaro     35    1.74        Líbero     Veterana   NaN\n",
      "5       Fersino     22    1.69        Líbero       Novata   NaN\n",
      "6          Orro     24    1.78   Levantadora       Novata   NaN\n",
      "7       Bosetti     28    1.79      Ponteira   Experiente   NaN\n",
      "8   Chirichella     28    1.91  Meio de rede   Experiente   NaN\n",
      "9        Danesi     26    1.95  Meio de rede   Experiente   NaN\n",
      "10     Pietrini     22    1.88      Ponteira       Novata   NaN\n",
      "11     Nwakalor     23    1.79        Oposto       Novata   NaN\n",
      "12        Sylla     27    1.84      Ponteira   Experiente   NaN\n",
      "13        Egonu     23    1.93        Oposto       Novata   NaN\n"
     ]
    }
   ],
   "source": [
    "italia = pd.DataFrame(italia,columns=['NOME','IDADE','ALTURA','POSIÇÃO','FAIXA ETÁRIA']) \n",
    "italia = italia.reindex(columns = italia.columns.tolist() + ['PAÍS'])\n",
    "print(italia)"
   ]
  },
  {
   "cell_type": "code",
   "execution_count": 42,
   "id": "dba5fc33",
   "metadata": {},
   "outputs": [
    {
     "data": {
      "text/html": [
       "<div>\n",
       "<style scoped>\n",
       "    .dataframe tbody tr th:only-of-type {\n",
       "        vertical-align: middle;\n",
       "    }\n",
       "\n",
       "    .dataframe tbody tr th {\n",
       "        vertical-align: top;\n",
       "    }\n",
       "\n",
       "    .dataframe thead th {\n",
       "        text-align: right;\n",
       "    }\n",
       "</style>\n",
       "<table border=\"1\" class=\"dataframe\">\n",
       "  <thead>\n",
       "    <tr style=\"text-align: right;\">\n",
       "      <th></th>\n",
       "      <th>NOME</th>\n",
       "      <th>IDADE</th>\n",
       "      <th>ALTURA</th>\n",
       "      <th>POSIÇÃO</th>\n",
       "      <th>FAIXA ETÁRIA</th>\n",
       "      <th>PAÍS</th>\n",
       "    </tr>\n",
       "  </thead>\n",
       "  <tbody>\n",
       "    <tr>\n",
       "      <th>0</th>\n",
       "      <td>Lubian</td>\n",
       "      <td>22</td>\n",
       "      <td>1.93</td>\n",
       "      <td>Meio de rede</td>\n",
       "      <td>Novata</td>\n",
       "      <td>Itália</td>\n",
       "    </tr>\n",
       "    <tr>\n",
       "      <th>1</th>\n",
       "      <td>Gennari</td>\n",
       "      <td>30</td>\n",
       "      <td>1.84</td>\n",
       "      <td>Ponteira</td>\n",
       "      <td>Experiente</td>\n",
       "      <td>Itália</td>\n",
       "    </tr>\n",
       "    <tr>\n",
       "      <th>2</th>\n",
       "      <td>Bonifacio</td>\n",
       "      <td>26</td>\n",
       "      <td>1.86</td>\n",
       "      <td>Meio de rede</td>\n",
       "      <td>Experiente</td>\n",
       "      <td>Itália</td>\n",
       "    </tr>\n",
       "    <tr>\n",
       "      <th>3</th>\n",
       "      <td>Malinov</td>\n",
       "      <td>26</td>\n",
       "      <td>1.82</td>\n",
       "      <td>Levantadora</td>\n",
       "      <td>Experiente</td>\n",
       "      <td>Itália</td>\n",
       "    </tr>\n",
       "    <tr>\n",
       "      <th>4</th>\n",
       "      <td>De Gennaro</td>\n",
       "      <td>35</td>\n",
       "      <td>1.74</td>\n",
       "      <td>Líbero</td>\n",
       "      <td>Veterana</td>\n",
       "      <td>Itália</td>\n",
       "    </tr>\n",
       "    <tr>\n",
       "      <th>5</th>\n",
       "      <td>Fersino</td>\n",
       "      <td>22</td>\n",
       "      <td>1.69</td>\n",
       "      <td>Líbero</td>\n",
       "      <td>Novata</td>\n",
       "      <td>Itália</td>\n",
       "    </tr>\n",
       "    <tr>\n",
       "      <th>6</th>\n",
       "      <td>Orro</td>\n",
       "      <td>24</td>\n",
       "      <td>1.78</td>\n",
       "      <td>Levantadora</td>\n",
       "      <td>Novata</td>\n",
       "      <td>Itália</td>\n",
       "    </tr>\n",
       "    <tr>\n",
       "      <th>7</th>\n",
       "      <td>Bosetti</td>\n",
       "      <td>28</td>\n",
       "      <td>1.79</td>\n",
       "      <td>Ponteira</td>\n",
       "      <td>Experiente</td>\n",
       "      <td>Itália</td>\n",
       "    </tr>\n",
       "    <tr>\n",
       "      <th>8</th>\n",
       "      <td>Chirichella</td>\n",
       "      <td>28</td>\n",
       "      <td>1.91</td>\n",
       "      <td>Meio de rede</td>\n",
       "      <td>Experiente</td>\n",
       "      <td>Itália</td>\n",
       "    </tr>\n",
       "    <tr>\n",
       "      <th>9</th>\n",
       "      <td>Danesi</td>\n",
       "      <td>26</td>\n",
       "      <td>1.95</td>\n",
       "      <td>Meio de rede</td>\n",
       "      <td>Experiente</td>\n",
       "      <td>Itália</td>\n",
       "    </tr>\n",
       "    <tr>\n",
       "      <th>10</th>\n",
       "      <td>Pietrini</td>\n",
       "      <td>22</td>\n",
       "      <td>1.88</td>\n",
       "      <td>Ponteira</td>\n",
       "      <td>Novata</td>\n",
       "      <td>Itália</td>\n",
       "    </tr>\n",
       "    <tr>\n",
       "      <th>11</th>\n",
       "      <td>Nwakalor</td>\n",
       "      <td>23</td>\n",
       "      <td>1.79</td>\n",
       "      <td>Oposto</td>\n",
       "      <td>Novata</td>\n",
       "      <td>Itália</td>\n",
       "    </tr>\n",
       "    <tr>\n",
       "      <th>12</th>\n",
       "      <td>Sylla</td>\n",
       "      <td>27</td>\n",
       "      <td>1.84</td>\n",
       "      <td>Ponteira</td>\n",
       "      <td>Experiente</td>\n",
       "      <td>Itália</td>\n",
       "    </tr>\n",
       "    <tr>\n",
       "      <th>13</th>\n",
       "      <td>Egonu</td>\n",
       "      <td>23</td>\n",
       "      <td>1.93</td>\n",
       "      <td>Oposto</td>\n",
       "      <td>Novata</td>\n",
       "      <td>Itália</td>\n",
       "    </tr>\n",
       "  </tbody>\n",
       "</table>\n",
       "</div>"
      ],
      "text/plain": [
       "           NOME  IDADE  ALTURA       POSIÇÃO FAIXA ETÁRIA    PAÍS\n",
       "0        Lubian     22    1.93  Meio de rede       Novata  Itália\n",
       "1       Gennari     30    1.84      Ponteira   Experiente  Itália\n",
       "2     Bonifacio     26    1.86  Meio de rede   Experiente  Itália\n",
       "3       Malinov     26    1.82   Levantadora   Experiente  Itália\n",
       "4    De Gennaro     35    1.74        Líbero     Veterana  Itália\n",
       "5       Fersino     22    1.69        Líbero       Novata  Itália\n",
       "6          Orro     24    1.78   Levantadora       Novata  Itália\n",
       "7       Bosetti     28    1.79      Ponteira   Experiente  Itália\n",
       "8   Chirichella     28    1.91  Meio de rede   Experiente  Itália\n",
       "9        Danesi     26    1.95  Meio de rede   Experiente  Itália\n",
       "10     Pietrini     22    1.88      Ponteira       Novata  Itália\n",
       "11     Nwakalor     23    1.79        Oposto       Novata  Itália\n",
       "12        Sylla     27    1.84      Ponteira   Experiente  Itália\n",
       "13        Egonu     23    1.93        Oposto       Novata  Itália"
      ]
     },
     "execution_count": 42,
     "metadata": {},
     "output_type": "execute_result"
    }
   ],
   "source": [
    "italia[\"PAÍS\"].fillna(\"Itália\", inplace = True)\n",
    "italia"
   ]
  },
  {
   "cell_type": "markdown",
   "id": "7a4f3d0a",
   "metadata": {},
   "source": [
    "<img src=\"servia.JPG\" />"
   ]
  },
  {
   "cell_type": "code",
   "execution_count": 23,
   "id": "c2c57c7c",
   "metadata": {},
   "outputs": [
    {
     "data": {
      "image/png": "[encoded data removed]",
      "text/plain": [
       "<Figure size 1500x500 with 1 Axes>"
      ]
     },
     "metadata": {},
     "output_type": "display_data"
    },
    {
     "data": {
      "image/png": "[encoded data removed]",
      "text/plain": [
       "<Figure size 1500x500 with 1 Axes>"
      ]
     },
     "metadata": {},
     "output_type": "display_data"
    }
   ],
   "source": [
    "servia=pd.DataFrame(servia,columns=['Nº', 'NOME', 'IDADE', 'ALTURA', 'POSIÇÃO'])\n",
    "servia['IDADE'].hist(bins=7, rwidth=0.90, color=\"darkred\")\n",
    "plt.xlim(20,36) \n",
    "plt.ylim(0,7)\n",
    "plt.title(\"Sérvia - Idade\", fontsize = 16)\n",
    "plt.show()\n",
    "\n",
    "servia['ALTURA'].hist(bins=5, rwidth=0.90, color=\"darkred\")\n",
    "plt.xlim(1.65,2.00) \n",
    "plt.ylim(0,7)\n",
    "plt.title(\"Sérvia- Altura\", fontsize = 16)\n",
    "plt.show()"
   ]
  },
  {
   "cell_type": "code",
   "execution_count": 24,
   "id": "8f97a93a",
   "metadata": {},
   "outputs": [
    {
     "data": {
      "text/plain": [
       "1.85"
      ]
     },
     "execution_count": 24,
     "metadata": {},
     "output_type": "execute_result"
    }
   ],
   "source": [
    "#média de altura Servia\n",
    "round(servia.ALTURA.mean(), 2)\n"
   ]
  },
  {
   "cell_type": "code",
   "execution_count": 25,
   "id": "dc57e929",
   "metadata": {},
   "outputs": [
    {
     "data": {
      "text/plain": [
       "27.57"
      ]
     },
     "execution_count": 25,
     "metadata": {},
     "output_type": "execute_result"
    }
   ],
   "source": [
    "#média de idade Servia\n",
    "round(servia.IDADE.mean(), 2)"
   ]
  },
  {
   "cell_type": "code",
   "execution_count": 26,
   "id": "d023af1e",
   "metadata": {},
   "outputs": [
    {
     "data": {
      "image/png": "[encoded data removed]",
      "text/plain": [
       "<Figure size 1500x500 with 1 Axes>"
      ]
     },
     "metadata": {},
     "output_type": "display_data"
    }
   ],
   "source": [
    "# Variação de idade Servia\n",
    "plt.title('Analisando a variação de idade')\n",
    "sns.boxplot(data=servia, x='IDADE');"
   ]
  },
  {
   "cell_type": "code",
   "execution_count": 27,
   "id": "2ff946f6",
   "metadata": {},
   "outputs": [
    {
     "data": {
      "image/png": "[encoded data removed]",
      "text/plain": [
       "<Figure size 1500x500 with 1 Axes>"
      ]
     },
     "metadata": {},
     "output_type": "display_data"
    }
   ],
   "source": [
    "# Variação de altura Servia\n",
    "plt.title('Analisando a variação de altura')\n",
    "sns.boxplot(data=servia, x='ALTURA');"
   ]
  },
  {
   "cell_type": "code",
   "execution_count": 52,
   "id": "3cd949f0",
   "metadata": {},
   "outputs": [
    {
     "data": {
      "text/plain": [
       "POSIÇÃO\n",
       "Oposto          1.92\n",
       "Meio de rede    1.89\n",
       "Ponteira        1.86\n",
       "Levantadora     1.86\n",
       "Líbero          1.68\n",
       "Name: ALTURA, dtype: float64"
      ]
     },
     "execution_count": 52,
     "metadata": {},
     "output_type": "execute_result"
    }
   ],
   "source": [
    "#média de altura por posição Servia\n",
    "servia.groupby('POSIÇÃO')['ALTURA'].mean().sort_values(ascending=False).round(2)"
   ]
  },
  {
   "cell_type": "code",
   "execution_count": 51,
   "id": "12b5ffd4",
   "metadata": {},
   "outputs": [
    {
     "data": {
      "text/plain": [
       "POSIÇÃO\n",
       "Levantadora     30.00\n",
       "Líbero          28.00\n",
       "Meio de rede    27.67\n",
       "Oposto          27.50\n",
       "Ponteira        26.40\n",
       "Name: IDADE, dtype: float64"
      ]
     },
     "execution_count": 51,
     "metadata": {},
     "output_type": "execute_result"
    }
   ],
   "source": [
    "#média de idade por posição Servia\n",
    "servia.groupby('POSIÇÃO')['IDADE'].mean().sort_values(ascending=False).round(2)"
   ]
  },
  {
   "cell_type": "code",
   "execution_count": 30,
   "id": "ff88f8bb",
   "metadata": {},
   "outputs": [
    {
     "data": {
      "text/plain": [
       "NOME\n",
       "Drca           34\n",
       "Mihajlovic     31\n",
       "Bjelica        30\n",
       "Stevanovic     30\n",
       "Pusic          29\n",
       "Busa           28\n",
       "Popovic        28\n",
       "Jegdic         27\n",
       "Mirkovic       26\n",
       "Aleksic        25\n",
       "Bokovic       25\n",
       "Lozo           25\n",
       "Milenkovic     25\n",
       "Lazovic        23\n",
       "Name: IDADE, dtype: int64"
      ]
     },
     "execution_count": 30,
     "metadata": {},
     "output_type": "execute_result"
    }
   ],
   "source": [
    "#ordenar por jogadora mais velha\n",
    "servia.groupby('NOME')['IDADE'].max().sort_values(ascending=False)"
   ]
  },
  {
   "cell_type": "code",
   "execution_count": 53,
   "id": "c62d75d9",
   "metadata": {},
   "outputs": [
    {
     "data": {
      "text/plain": [
       "NOME\n",
       "Boskovic       1.93\n",
       "Stevanovic     1.92\n",
       "Bjelica        1.90\n",
       "Mihajlovic     1.90\n",
       "Aleksic        1.88\n",
       "Busa           1.87\n",
       "Popovic        1.87\n",
       "Drca           1.86\n",
       "Lozo           1.86\n",
       "Milenkovic     1.85\n",
       "Mirkovic       1.85\n",
       "Lazovic        1.82\n",
       "Pusic          1.70\n",
       "Jegdic         1.67\n",
       "Name: ALTURA, dtype: float64"
      ]
     },
     "execution_count": 53,
     "metadata": {},
     "output_type": "execute_result"
    }
   ],
   "source": [
    "#ordenar por jogadora mais alta\n",
    "servia.groupby('NOME')['ALTURA'].max().sort_values(ascending=False)"
   ]
  },
  {
   "cell_type": "code",
   "execution_count": 45,
   "id": "a5676e3b",
   "metadata": {},
   "outputs": [
    {
     "data": {
      "text/html": [
       "<div>\n",
       "<style scoped>\n",
       "    .dataframe tbody tr th:only-of-type {\n",
       "        vertical-align: middle;\n",
       "    }\n",
       "\n",
       "    .dataframe tbody tr th {\n",
       "        vertical-align: top;\n",
       "    }\n",
       "\n",
       "    .dataframe thead th {\n",
       "        text-align: right;\n",
       "    }\n",
       "</style>\n",
       "<table border=\"1\" class=\"dataframe\">\n",
       "  <thead>\n",
       "    <tr style=\"text-align: right;\">\n",
       "      <th></th>\n",
       "      <th>NOME</th>\n",
       "      <th>IDADE</th>\n",
       "      <th>ALTURA</th>\n",
       "      <th>POSIÇÃO</th>\n",
       "      <th>FAIXA ETÁRIA</th>\n",
       "    </tr>\n",
       "  </thead>\n",
       "  <tbody>\n",
       "    <tr>\n",
       "      <th>0</th>\n",
       "      <td>Busa</td>\n",
       "      <td>28</td>\n",
       "      <td>1.87</td>\n",
       "      <td>Ponteira</td>\n",
       "      <td>Experiente</td>\n",
       "    </tr>\n",
       "    <tr>\n",
       "      <th>1</th>\n",
       "      <td>Lazovic</td>\n",
       "      <td>23</td>\n",
       "      <td>1.82</td>\n",
       "      <td>Ponteira</td>\n",
       "      <td>Novata</td>\n",
       "    </tr>\n",
       "    <tr>\n",
       "      <th>2</th>\n",
       "      <td>Drca</td>\n",
       "      <td>34</td>\n",
       "      <td>1.86</td>\n",
       "      <td>Levantadora</td>\n",
       "      <td>Veterana</td>\n",
       "    </tr>\n",
       "    <tr>\n",
       "      <th>3</th>\n",
       "      <td>Popovic</td>\n",
       "      <td>28</td>\n",
       "      <td>1.87</td>\n",
       "      <td>Meio de rede</td>\n",
       "      <td>Experiente</td>\n",
       "    </tr>\n",
       "    <tr>\n",
       "      <th>4</th>\n",
       "      <td>Mirkovic</td>\n",
       "      <td>26</td>\n",
       "      <td>1.85</td>\n",
       "      <td>Levantadora</td>\n",
       "      <td>Experiente</td>\n",
       "    </tr>\n",
       "    <tr>\n",
       "      <th>5</th>\n",
       "      <td>Mihajlovic</td>\n",
       "      <td>31</td>\n",
       "      <td>1.90</td>\n",
       "      <td>Ponteira</td>\n",
       "      <td>Experiente</td>\n",
       "    </tr>\n",
       "    <tr>\n",
       "      <th>6</th>\n",
       "      <td>Pusic</td>\n",
       "      <td>29</td>\n",
       "      <td>1.70</td>\n",
       "      <td>Líbero</td>\n",
       "      <td>Experiente</td>\n",
       "    </tr>\n",
       "    <tr>\n",
       "      <th>7</th>\n",
       "      <td>Bjelica</td>\n",
       "      <td>30</td>\n",
       "      <td>1.90</td>\n",
       "      <td>Oposto</td>\n",
       "      <td>Experiente</td>\n",
       "    </tr>\n",
       "    <tr>\n",
       "      <th>8</th>\n",
       "      <td>Aleksic</td>\n",
       "      <td>25</td>\n",
       "      <td>1.88</td>\n",
       "      <td>Meio de rede</td>\n",
       "      <td>Novata</td>\n",
       "    </tr>\n",
       "    <tr>\n",
       "      <th>9</th>\n",
       "      <td>Stevanovic</td>\n",
       "      <td>30</td>\n",
       "      <td>1.92</td>\n",
       "      <td>Meio de rede</td>\n",
       "      <td>Experiente</td>\n",
       "    </tr>\n",
       "    <tr>\n",
       "      <th>10</th>\n",
       "      <td>Jegdic</td>\n",
       "      <td>27</td>\n",
       "      <td>1.67</td>\n",
       "      <td>Líbero</td>\n",
       "      <td>Experiente</td>\n",
       "    </tr>\n",
       "    <tr>\n",
       "      <th>11</th>\n",
       "      <td>Boskovic</td>\n",
       "      <td>25</td>\n",
       "      <td>1.93</td>\n",
       "      <td>Oposto</td>\n",
       "      <td>Novata</td>\n",
       "    </tr>\n",
       "    <tr>\n",
       "      <th>12</th>\n",
       "      <td>Milenkovic</td>\n",
       "      <td>25</td>\n",
       "      <td>1.85</td>\n",
       "      <td>Ponteira</td>\n",
       "      <td>Novata</td>\n",
       "    </tr>\n",
       "    <tr>\n",
       "      <th>13</th>\n",
       "      <td>Lozo</td>\n",
       "      <td>25</td>\n",
       "      <td>1.86</td>\n",
       "      <td>Ponteira</td>\n",
       "      <td>Novata</td>\n",
       "    </tr>\n",
       "  </tbody>\n",
       "</table>\n",
       "</div>"
      ],
      "text/plain": [
       "           NOME  IDADE  ALTURA       POSIÇÃO FAIXA ETÁRIA\n",
       "0          Busa     28    1.87      Ponteira   Experiente\n",
       "1       Lazovic     23    1.82      Ponteira       Novata\n",
       "2          Drca     34    1.86   Levantadora     Veterana\n",
       "3       Popovic     28    1.87  Meio de rede   Experiente\n",
       "4      Mirkovic     26    1.85   Levantadora   Experiente\n",
       "5    Mihajlovic     31    1.90      Ponteira   Experiente\n",
       "6         Pusic     29    1.70        Líbero   Experiente\n",
       "7       Bjelica     30    1.90        Oposto   Experiente\n",
       "8       Aleksic     25    1.88  Meio de rede       Novata\n",
       "9   Stevanovic      30    1.92  Meio de rede   Experiente\n",
       "10       Jegdic     27    1.67        Líbero   Experiente\n",
       "11     Boskovic     25    1.93        Oposto       Novata\n",
       "12   Milenkovic     25    1.85      Ponteira       Novata\n",
       "13         Lozo     25    1.86      Ponteira       Novata"
      ]
     },
     "execution_count": 45,
     "metadata": {},
     "output_type": "execute_result"
    }
   ],
   "source": [
    "#criando coluna para mostrar novatas e experientes(novatas <= 25)\n",
    "import sys\n",
    "\n",
    "servia['FAIXA ETÁRIA']=pd.cut(\n",
    "    servia['IDADE'],\n",
    "    bins=[0, 25, 33, sys.maxsize],\n",
    "    labels=['Novata', 'Experiente', 'Veterana']\n",
    "\n",
    ")\n",
    "\n",
    "servia"
   ]
  },
  {
   "cell_type": "code",
   "execution_count": 59,
   "id": "0da933d8",
   "metadata": {},
   "outputs": [
    {
     "data": {
      "image/png": "[encoded data removed]",
      "text/plain": [
       "<Figure size 1500x500 with 1 Axes>"
      ]
     },
     "metadata": {},
     "output_type": "display_data"
    }
   ],
   "source": [
    "servia['FAIXA ETÁRIA'].value_counts().plot(kind='pie',autopct='%1.1f%%',startangle=30)\n",
    "plt.legend(servia['FAIXA ETÁRIA'].value_counts(), title=\"Qtde em nº\",  bbox_to_anchor=(1, 1))\n",
    "plt.tight_layout()"
   ]
  },
  {
   "cell_type": "code",
   "execution_count": 46,
   "id": "9825bd0a",
   "metadata": {},
   "outputs": [
    {
     "name": "stdout",
     "output_type": "stream",
     "text": [
      "           NOME  IDADE  ALTURA       POSIÇÃO FAIXA ETÁRIA  PAÍS\n",
      "0          Busa     28    1.87      Ponteira   Experiente   NaN\n",
      "1       Lazovic     23    1.82      Ponteira       Novata   NaN\n",
      "2          Drca     34    1.86   Levantadora     Veterana   NaN\n",
      "3       Popovic     28    1.87  Meio de rede   Experiente   NaN\n",
      "4      Mirkovic     26    1.85   Levantadora   Experiente   NaN\n",
      "5    Mihajlovic     31    1.90      Ponteira   Experiente   NaN\n",
      "6         Pusic     29    1.70        Líbero   Experiente   NaN\n",
      "7       Bjelica     30    1.90        Oposto   Experiente   NaN\n",
      "8       Aleksic     25    1.88  Meio de rede       Novata   NaN\n",
      "9   Stevanovic      30    1.92  Meio de rede   Experiente   NaN\n",
      "10       Jegdic     27    1.67        Líbero   Experiente   NaN\n",
      "11     Boskovic     25    1.93        Oposto       Novata   NaN\n",
      "12   Milenkovic     25    1.85      Ponteira       Novata   NaN\n",
      "13         Lozo     25    1.86      Ponteira       Novata   NaN\n"
     ]
    }
   ],
   "source": [
    "servia = pd.DataFrame(servia,columns=['NOME','IDADE','ALTURA','POSIÇÃO','FAIXA ETÁRIA']) \n",
    "servia = servia.reindex(columns = servia.columns.tolist() + ['PAÍS'])\n",
    "print(servia)"
   ]
  },
  {
   "cell_type": "code",
   "execution_count": 47,
   "id": "d8061fef",
   "metadata": {},
   "outputs": [
    {
     "data": {
      "text/html": [
       "<div>\n",
       "<style scoped>\n",
       "    .dataframe tbody tr th:only-of-type {\n",
       "        vertical-align: middle;\n",
       "    }\n",
       "\n",
       "    .dataframe tbody tr th {\n",
       "        vertical-align: top;\n",
       "    }\n",
       "\n",
       "    .dataframe thead th {\n",
       "        text-align: right;\n",
       "    }\n",
       "</style>\n",
       "<table border=\"1\" class=\"dataframe\">\n",
       "  <thead>\n",
       "    <tr style=\"text-align: right;\">\n",
       "      <th></th>\n",
       "      <th>NOME</th>\n",
       "      <th>IDADE</th>\n",
       "      <th>ALTURA</th>\n",
       "      <th>POSIÇÃO</th>\n",
       "      <th>FAIXA ETÁRIA</th>\n",
       "      <th>PAÍS</th>\n",
       "    </tr>\n",
       "  </thead>\n",
       "  <tbody>\n",
       "    <tr>\n",
       "      <th>0</th>\n",
       "      <td>Busa</td>\n",
       "      <td>28</td>\n",
       "      <td>1.87</td>\n",
       "      <td>Ponteira</td>\n",
       "      <td>Experiente</td>\n",
       "      <td>Sérvia</td>\n",
       "    </tr>\n",
       "    <tr>\n",
       "      <th>1</th>\n",
       "      <td>Lazovic</td>\n",
       "      <td>23</td>\n",
       "      <td>1.82</td>\n",
       "      <td>Ponteira</td>\n",
       "      <td>Novata</td>\n",
       "      <td>Sérvia</td>\n",
       "    </tr>\n",
       "    <tr>\n",
       "      <th>2</th>\n",
       "      <td>Drca</td>\n",
       "      <td>34</td>\n",
       "      <td>1.86</td>\n",
       "      <td>Levantadora</td>\n",
       "      <td>Veterana</td>\n",
       "      <td>Sérvia</td>\n",
       "    </tr>\n",
       "    <tr>\n",
       "      <th>3</th>\n",
       "      <td>Popovic</td>\n",
       "      <td>28</td>\n",
       "      <td>1.87</td>\n",
       "      <td>Meio de rede</td>\n",
       "      <td>Experiente</td>\n",
       "      <td>Sérvia</td>\n",
       "    </tr>\n",
       "    <tr>\n",
       "      <th>4</th>\n",
       "      <td>Mirkovic</td>\n",
       "      <td>26</td>\n",
       "      <td>1.85</td>\n",
       "      <td>Levantadora</td>\n",
       "      <td>Experiente</td>\n",
       "      <td>Sérvia</td>\n",
       "    </tr>\n",
       "    <tr>\n",
       "      <th>5</th>\n",
       "      <td>Mihajlovic</td>\n",
       "      <td>31</td>\n",
       "      <td>1.90</td>\n",
       "      <td>Ponteira</td>\n",
       "      <td>Experiente</td>\n",
       "      <td>Sérvia</td>\n",
       "    </tr>\n",
       "    <tr>\n",
       "      <th>6</th>\n",
       "      <td>Pusic</td>\n",
       "      <td>29</td>\n",
       "      <td>1.70</td>\n",
       "      <td>Líbero</td>\n",
       "      <td>Experiente</td>\n",
       "      <td>Sérvia</td>\n",
       "    </tr>\n",
       "    <tr>\n",
       "      <th>7</th>\n",
       "      <td>Bjelica</td>\n",
       "      <td>30</td>\n",
       "      <td>1.90</td>\n",
       "      <td>Oposto</td>\n",
       "      <td>Experiente</td>\n",
       "      <td>Sérvia</td>\n",
       "    </tr>\n",
       "    <tr>\n",
       "      <th>8</th>\n",
       "      <td>Aleksic</td>\n",
       "      <td>25</td>\n",
       "      <td>1.88</td>\n",
       "      <td>Meio de rede</td>\n",
       "      <td>Novata</td>\n",
       "      <td>Sérvia</td>\n",
       "    </tr>\n",
       "    <tr>\n",
       "      <th>9</th>\n",
       "      <td>Stevanovic</td>\n",
       "      <td>30</td>\n",
       "      <td>1.92</td>\n",
       "      <td>Meio de rede</td>\n",
       "      <td>Experiente</td>\n",
       "      <td>Sérvia</td>\n",
       "    </tr>\n",
       "    <tr>\n",
       "      <th>10</th>\n",
       "      <td>Jegdic</td>\n",
       "      <td>27</td>\n",
       "      <td>1.67</td>\n",
       "      <td>Líbero</td>\n",
       "      <td>Experiente</td>\n",
       "      <td>Sérvia</td>\n",
       "    </tr>\n",
       "    <tr>\n",
       "      <th>11</th>\n",
       "      <td>Boskovic</td>\n",
       "      <td>25</td>\n",
       "      <td>1.93</td>\n",
       "      <td>Oposto</td>\n",
       "      <td>Novata</td>\n",
       "      <td>Sérvia</td>\n",
       "    </tr>\n",
       "    <tr>\n",
       "      <th>12</th>\n",
       "      <td>Milenkovic</td>\n",
       "      <td>25</td>\n",
       "      <td>1.85</td>\n",
       "      <td>Ponteira</td>\n",
       "      <td>Novata</td>\n",
       "      <td>Sérvia</td>\n",
       "    </tr>\n",
       "    <tr>\n",
       "      <th>13</th>\n",
       "      <td>Lozo</td>\n",
       "      <td>25</td>\n",
       "      <td>1.86</td>\n",
       "      <td>Ponteira</td>\n",
       "      <td>Novata</td>\n",
       "      <td>Sérvia</td>\n",
       "    </tr>\n",
       "  </tbody>\n",
       "</table>\n",
       "</div>"
      ],
      "text/plain": [
       "           NOME  IDADE  ALTURA       POSIÇÃO FAIXA ETÁRIA    PAÍS\n",
       "0          Busa     28    1.87      Ponteira   Experiente  Sérvia\n",
       "1       Lazovic     23    1.82      Ponteira       Novata  Sérvia\n",
       "2          Drca     34    1.86   Levantadora     Veterana  Sérvia\n",
       "3       Popovic     28    1.87  Meio de rede   Experiente  Sérvia\n",
       "4      Mirkovic     26    1.85   Levantadora   Experiente  Sérvia\n",
       "5    Mihajlovic     31    1.90      Ponteira   Experiente  Sérvia\n",
       "6         Pusic     29    1.70        Líbero   Experiente  Sérvia\n",
       "7       Bjelica     30    1.90        Oposto   Experiente  Sérvia\n",
       "8       Aleksic     25    1.88  Meio de rede       Novata  Sérvia\n",
       "9   Stevanovic      30    1.92  Meio de rede   Experiente  Sérvia\n",
       "10       Jegdic     27    1.67        Líbero   Experiente  Sérvia\n",
       "11     Boskovic     25    1.93        Oposto       Novata  Sérvia\n",
       "12   Milenkovic     25    1.85      Ponteira       Novata  Sérvia\n",
       "13         Lozo     25    1.86      Ponteira       Novata  Sérvia"
      ]
     },
     "execution_count": 47,
     "metadata": {},
     "output_type": "execute_result"
    }
   ],
   "source": [
    "servia[\"PAÍS\"].fillna(\"Sérvia\", inplace = True)\n",
    "servia"
   ]
  },
  {
   "cell_type": "markdown",
   "id": "c149b1dd",
   "metadata": {},
   "source": [
    "<img src=\"china.JPG\" />"
   ]
  },
  {
   "cell_type": "code",
   "execution_count": 66,
   "id": "88196c71",
   "metadata": {},
   "outputs": [
    {
     "data": {
      "image/png": "[encoded data removed]",
      "text/plain": [
       "<Figure size 1500x500 with 1 Axes>"
      ]
     },
     "metadata": {},
     "output_type": "display_data"
    },
    {
     "data": {
      "image/png": "[encoded data removed]",
      "text/plain": [
       "<Figure size 1500x500 with 1 Axes>"
      ]
     },
     "metadata": {},
     "output_type": "display_data"
    }
   ],
   "source": [
    "china=pd.DataFrame(china,columns=['Nº', 'NOME', 'IDADE', 'ALTURA', 'POSIÇÃO'])\n",
    "china['IDADE'].hist(bins=7, rwidth=0.90, color=\"red\")\n",
    "plt.xlim(20,34) \n",
    "plt.ylim(0,5)\n",
    "plt.title(\"China - Idade\", fontsize = 16)\n",
    "plt.show()\n",
    "\n",
    "china['ALTURA'].hist(bins=5, rwidth=0.90, color=\"red\")\n",
    "plt.xlim(1.65,2.05) \n",
    "plt.ylim(0,7)\n",
    "plt.title(\"China - Altura\", fontsize = 16)\n",
    "plt.show()"
   ]
  },
  {
   "cell_type": "code",
   "execution_count": 67,
   "id": "b0a5dbe6",
   "metadata": {},
   "outputs": [
    {
     "data": {
      "text/plain": [
       "1.89"
      ]
     },
     "execution_count": 67,
     "metadata": {},
     "output_type": "execute_result"
    }
   ],
   "source": [
    "#média de altura China\n",
    "round(china.ALTURA.mean(), 2)"
   ]
  },
  {
   "cell_type": "code",
   "execution_count": 68,
   "id": "ac3953ee",
   "metadata": {},
   "outputs": [
    {
     "data": {
      "text/plain": [
       "25.14"
      ]
     },
     "execution_count": 68,
     "metadata": {},
     "output_type": "execute_result"
    }
   ],
   "source": [
    "#média de idade China\n",
    "round(china.IDADE.mean(), 2)"
   ]
  },
  {
   "cell_type": "code",
   "execution_count": 70,
   "id": "715a217a",
   "metadata": {},
   "outputs": [
    {
     "data": {
      "image/png": "[encoded data removed]",
      "text/plain": [
       "<Figure size 1500x500 with 1 Axes>"
      ]
     },
     "metadata": {},
     "output_type": "display_data"
    }
   ],
   "source": [
    "# Variação de idade China\n",
    "plt.title('Analisando a variação de idade')\n",
    "sns.boxplot(data=china, x='IDADE');\n"
   ]
  },
  {
   "cell_type": "code",
   "execution_count": 71,
   "id": "6b8f5a1f",
   "metadata": {},
   "outputs": [
    {
     "data": {
      "image/png": "[encoded data removed]",
      "text/plain": [
       "<Figure size 1500x500 with 1 Axes>"
      ]
     },
     "metadata": {},
     "output_type": "display_data"
    }
   ],
   "source": [
    "# Variação de altura China\n",
    "plt.title('Analisando a variação de altura')\n",
    "sns.boxplot(data=china, x='ALTURA');"
   ]
  },
  {
   "cell_type": "code",
   "execution_count": 72,
   "id": "dff7c0a1",
   "metadata": {},
   "outputs": [
    {
     "data": {
      "text/plain": [
       "POSIÇÃO\n",
       "Meio de rede    1.97\n",
       "Oposto          1.92\n",
       "Ponteira        1.90\n",
       "Levantadora     1.82\n",
       "Líbero          1.74\n",
       "Name: ALTURA, dtype: float64"
      ]
     },
     "execution_count": 72,
     "metadata": {},
     "output_type": "execute_result"
    }
   ],
   "source": [
    "#média de altura por posição China\n",
    "china.groupby('POSIÇÃO')['ALTURA'].mean().sort_values(ascending=False).round(2)"
   ]
  },
  {
   "cell_type": "code",
   "execution_count": 73,
   "id": "d0871fd8",
   "metadata": {},
   "outputs": [
    {
     "data": {
      "text/plain": [
       "POSIÇÃO\n",
       "Levantadora     30.00\n",
       "Líbero          26.50\n",
       "Meio de rede    24.00\n",
       "Oposto          24.00\n",
       "Ponteira        23.75\n",
       "Name: IDADE, dtype: float64"
      ]
     },
     "execution_count": 73,
     "metadata": {},
     "output_type": "execute_result"
    }
   ],
   "source": [
    "#média de idade por posição Italia\n",
    "china.groupby('POSIÇÃO')['IDADE'].mean().sort_values(ascending=False).round(2)"
   ]
  },
  {
   "cell_type": "code",
   "execution_count": 74,
   "id": "6e3a5943",
   "metadata": {},
   "outputs": [
    {
     "data": {
      "text/plain": [
       "NOME\n",
       "Ding Xia         32\n",
       "Diao Linyu       28\n",
       "Wang Weiyi       27\n",
       "Jin Ye           26\n",
       "Wang Mengjie     26\n",
       "Wang Yunlu       26\n",
       "Gong Xiangyu     25\n",
       "Wang Yuanyuan    25\n",
       "Yuan Xinyue      25\n",
       "Gao Yi           24\n",
       "Chen Peiyan      23\n",
       "Li Yingying      22\n",
       "Yang Hanyu       22\n",
       "Wang Yizhu       21\n",
       "Name: IDADE, dtype: int64"
      ]
     },
     "execution_count": 74,
     "metadata": {},
     "output_type": "execute_result"
    }
   ],
   "source": [
    "#ordenar por jogadora mais velha\n",
    "china.groupby('NOME')['IDADE'].max().sort_values(ascending=False)"
   ]
  },
  {
   "cell_type": "code",
   "execution_count": 75,
   "id": "17102989",
   "metadata": {},
   "outputs": [
    {
     "data": {
      "text/plain": [
       "NOME\n",
       "Yuan Xinyue      2.02\n",
       "Wang Yuanyuan    1.96\n",
       "Yang Hanyu       1.96\n",
       "Chen Peiyan      1.95\n",
       "Gao Yi           1.94\n",
       "Li Yingying      1.92\n",
       "Wang Yunlu       1.91\n",
       "Wang Yizhu       1.90\n",
       "Jin Ye           1.89\n",
       "Gong Xiangyu     1.88\n",
       "Diao Linyu       1.83\n",
       "Ding Xia         1.80\n",
       "Wang Weiyi       1.75\n",
       "Wang Mengjie     1.73\n",
       "Name: ALTURA, dtype: float64"
      ]
     },
     "execution_count": 75,
     "metadata": {},
     "output_type": "execute_result"
    }
   ],
   "source": [
    "#ordenar por jogadora mais alta\n",
    "china.groupby('NOME')['ALTURA'].max().sort_values(ascending=False)"
   ]
  },
  {
   "cell_type": "code",
   "execution_count": 64,
   "id": "c9f69fe4",
   "metadata": {},
   "outputs": [
    {
     "data": {
      "text/html": [
       "<div>\n",
       "<style scoped>\n",
       "    .dataframe tbody tr th:only-of-type {\n",
       "        vertical-align: middle;\n",
       "    }\n",
       "\n",
       "    .dataframe tbody tr th {\n",
       "        vertical-align: top;\n",
       "    }\n",
       "\n",
       "    .dataframe thead th {\n",
       "        text-align: right;\n",
       "    }\n",
       "</style>\n",
       "<table border=\"1\" class=\"dataframe\">\n",
       "  <thead>\n",
       "    <tr style=\"text-align: right;\">\n",
       "      <th></th>\n",
       "      <th>NOME</th>\n",
       "      <th>IDADE</th>\n",
       "      <th>ALTURA</th>\n",
       "      <th>POSIÇÃO</th>\n",
       "      <th>FAIXA ETÁRIA</th>\n",
       "    </tr>\n",
       "  </thead>\n",
       "  <tbody>\n",
       "    <tr>\n",
       "      <th>0</th>\n",
       "      <td>Yuan Xinyue</td>\n",
       "      <td>25</td>\n",
       "      <td>2.02</td>\n",
       "      <td>Meio de rede</td>\n",
       "      <td>Novata</td>\n",
       "    </tr>\n",
       "    <tr>\n",
       "      <th>1</th>\n",
       "      <td>Diao Linyu</td>\n",
       "      <td>28</td>\n",
       "      <td>1.83</td>\n",
       "      <td>Levantadora</td>\n",
       "      <td>Experiente</td>\n",
       "    </tr>\n",
       "    <tr>\n",
       "      <th>2</th>\n",
       "      <td>Yang Hanyu</td>\n",
       "      <td>22</td>\n",
       "      <td>1.96</td>\n",
       "      <td>Meio de rede</td>\n",
       "      <td>Novata</td>\n",
       "    </tr>\n",
       "    <tr>\n",
       "      <th>3</th>\n",
       "      <td>Gao Yi</td>\n",
       "      <td>24</td>\n",
       "      <td>1.94</td>\n",
       "      <td>Meio de rede</td>\n",
       "      <td>Novata</td>\n",
       "    </tr>\n",
       "    <tr>\n",
       "      <th>4</th>\n",
       "      <td>Gong Xiangyu</td>\n",
       "      <td>25</td>\n",
       "      <td>1.88</td>\n",
       "      <td>Oposto</td>\n",
       "      <td>Novata</td>\n",
       "    </tr>\n",
       "    <tr>\n",
       "      <th>5</th>\n",
       "      <td>Wang Yuanyuan</td>\n",
       "      <td>25</td>\n",
       "      <td>1.96</td>\n",
       "      <td>Meio de rede</td>\n",
       "      <td>Novata</td>\n",
       "    </tr>\n",
       "    <tr>\n",
       "      <th>6</th>\n",
       "      <td>Jin Ye</td>\n",
       "      <td>26</td>\n",
       "      <td>1.89</td>\n",
       "      <td>Ponteira</td>\n",
       "      <td>Experiente</td>\n",
       "    </tr>\n",
       "    <tr>\n",
       "      <th>7</th>\n",
       "      <td>Wang Yunlu</td>\n",
       "      <td>26</td>\n",
       "      <td>1.91</td>\n",
       "      <td>Ponteira</td>\n",
       "      <td>Experiente</td>\n",
       "    </tr>\n",
       "    <tr>\n",
       "      <th>8</th>\n",
       "      <td>Wang Yizhu</td>\n",
       "      <td>21</td>\n",
       "      <td>1.90</td>\n",
       "      <td>Ponteira</td>\n",
       "      <td>Novata</td>\n",
       "    </tr>\n",
       "    <tr>\n",
       "      <th>9</th>\n",
       "      <td>Li Yingying</td>\n",
       "      <td>22</td>\n",
       "      <td>1.92</td>\n",
       "      <td>Ponteira</td>\n",
       "      <td>Novata</td>\n",
       "    </tr>\n",
       "    <tr>\n",
       "      <th>10</th>\n",
       "      <td>Wang Weiyi</td>\n",
       "      <td>27</td>\n",
       "      <td>1.75</td>\n",
       "      <td>Líbero</td>\n",
       "      <td>Experiente</td>\n",
       "    </tr>\n",
       "    <tr>\n",
       "      <th>11</th>\n",
       "      <td>Ding Xia</td>\n",
       "      <td>32</td>\n",
       "      <td>1.80</td>\n",
       "      <td>Levantadora</td>\n",
       "      <td>Experiente</td>\n",
       "    </tr>\n",
       "    <tr>\n",
       "      <th>12</th>\n",
       "      <td>Wang Mengjie</td>\n",
       "      <td>26</td>\n",
       "      <td>1.73</td>\n",
       "      <td>Líbero</td>\n",
       "      <td>Experiente</td>\n",
       "    </tr>\n",
       "    <tr>\n",
       "      <th>13</th>\n",
       "      <td>Chen Peiyan</td>\n",
       "      <td>23</td>\n",
       "      <td>1.95</td>\n",
       "      <td>Oposto</td>\n",
       "      <td>Novata</td>\n",
       "    </tr>\n",
       "  </tbody>\n",
       "</table>\n",
       "</div>"
      ],
      "text/plain": [
       "             NOME  IDADE  ALTURA       POSIÇÃO FAIXA ETÁRIA\n",
       "0     Yuan Xinyue     25    2.02  Meio de rede       Novata\n",
       "1      Diao Linyu     28    1.83   Levantadora   Experiente\n",
       "2      Yang Hanyu     22    1.96  Meio de rede       Novata\n",
       "3          Gao Yi     24    1.94  Meio de rede       Novata\n",
       "4    Gong Xiangyu     25    1.88        Oposto       Novata\n",
       "5   Wang Yuanyuan     25    1.96  Meio de rede       Novata\n",
       "6          Jin Ye     26    1.89      Ponteira   Experiente\n",
       "7      Wang Yunlu     26    1.91      Ponteira   Experiente\n",
       "8      Wang Yizhu     21    1.90      Ponteira       Novata\n",
       "9     Li Yingying     22    1.92      Ponteira       Novata\n",
       "10     Wang Weiyi     27    1.75        Líbero   Experiente\n",
       "11       Ding Xia     32    1.80   Levantadora   Experiente\n",
       "12   Wang Mengjie     26    1.73        Líbero   Experiente\n",
       "13    Chen Peiyan     23    1.95        Oposto       Novata"
      ]
     },
     "execution_count": 64,
     "metadata": {},
     "output_type": "execute_result"
    }
   ],
   "source": [
    "#criando coluna para mostrar novatas e experientes(novatas <= 25)\n",
    "import sys\n",
    "\n",
    "china['FAIXA ETÁRIA']=pd.cut(\n",
    "    china['IDADE'],\n",
    "    bins=[0, 25, 33, sys.maxsize],\n",
    "    labels=['Novata', 'Experiente', 'Veterana']\n",
    "\n",
    ")\n",
    "\n",
    "china"
   ]
  },
  {
   "cell_type": "code",
   "execution_count": 79,
   "id": "1a4a3bf1",
   "metadata": {},
   "outputs": [
    {
     "data": {
      "image/png": "[encoded data removed]",
      "text/plain": [
       "<Figure size 1500x500 with 1 Axes>"
      ]
     },
     "metadata": {},
     "output_type": "display_data"
    }
   ],
   "source": [
    "china['FAIXA ETÁRIA'].value_counts().plot(kind='pie',autopct='%1.1f%%',startangle=190)\n",
    "plt.legend(china['FAIXA ETÁRIA'].value_counts(), title=\"Qtde em nº\",  bbox_to_anchor=(1, 1))\n",
    "plt.tight_layout()"
   ]
  },
  {
   "cell_type": "code",
   "execution_count": 65,
   "id": "2c0c0afd",
   "metadata": {},
   "outputs": [
    {
     "name": "stdout",
     "output_type": "stream",
     "text": [
      "             NOME  IDADE  ALTURA       POSIÇÃO FAIXA ETÁRIA  PAÍS\n",
      "0     Yuan Xinyue     25    2.02  Meio de rede       Novata   NaN\n",
      "1      Diao Linyu     28    1.83   Levantadora   Experiente   NaN\n",
      "2      Yang Hanyu     22    1.96  Meio de rede       Novata   NaN\n",
      "3          Gao Yi     24    1.94  Meio de rede       Novata   NaN\n",
      "4    Gong Xiangyu     25    1.88        Oposto       Novata   NaN\n",
      "5   Wang Yuanyuan     25    1.96  Meio de rede       Novata   NaN\n",
      "6          Jin Ye     26    1.89      Ponteira   Experiente   NaN\n",
      "7      Wang Yunlu     26    1.91      Ponteira   Experiente   NaN\n",
      "8      Wang Yizhu     21    1.90      Ponteira       Novata   NaN\n",
      "9     Li Yingying     22    1.92      Ponteira       Novata   NaN\n",
      "10     Wang Weiyi     27    1.75        Líbero   Experiente   NaN\n",
      "11       Ding Xia     32    1.80   Levantadora   Experiente   NaN\n",
      "12   Wang Mengjie     26    1.73        Líbero   Experiente   NaN\n",
      "13    Chen Peiyan     23    1.95        Oposto       Novata   NaN\n"
     ]
    }
   ],
   "source": [
    "china = pd.DataFrame(china,columns=['NOME','IDADE','ALTURA','POSIÇÃO','FAIXA ETÁRIA']) \n",
    "china = china.reindex(columns = china.columns.tolist() + ['PAÍS'])\n",
    "print(china)"
   ]
  },
  {
   "cell_type": "code",
   "execution_count": 66,
   "id": "3dd56aba",
   "metadata": {},
   "outputs": [
    {
     "data": {
      "text/html": [
       "<div>\n",
       "<style scoped>\n",
       "    .dataframe tbody tr th:only-of-type {\n",
       "        vertical-align: middle;\n",
       "    }\n",
       "\n",
       "    .dataframe tbody tr th {\n",
       "        vertical-align: top;\n",
       "    }\n",
       "\n",
       "    .dataframe thead th {\n",
       "        text-align: right;\n",
       "    }\n",
       "</style>\n",
       "<table border=\"1\" class=\"dataframe\">\n",
       "  <thead>\n",
       "    <tr style=\"text-align: right;\">\n",
       "      <th></th>\n",
       "      <th>NOME</th>\n",
       "      <th>IDADE</th>\n",
       "      <th>ALTURA</th>\n",
       "      <th>POSIÇÃO</th>\n",
       "      <th>FAIXA ETÁRIA</th>\n",
       "      <th>PAÍS</th>\n",
       "    </tr>\n",
       "  </thead>\n",
       "  <tbody>\n",
       "    <tr>\n",
       "      <th>0</th>\n",
       "      <td>Yuan Xinyue</td>\n",
       "      <td>25</td>\n",
       "      <td>2.02</td>\n",
       "      <td>Meio de rede</td>\n",
       "      <td>Novata</td>\n",
       "      <td>China</td>\n",
       "    </tr>\n",
       "    <tr>\n",
       "      <th>1</th>\n",
       "      <td>Diao Linyu</td>\n",
       "      <td>28</td>\n",
       "      <td>1.83</td>\n",
       "      <td>Levantadora</td>\n",
       "      <td>Experiente</td>\n",
       "      <td>China</td>\n",
       "    </tr>\n",
       "    <tr>\n",
       "      <th>2</th>\n",
       "      <td>Yang Hanyu</td>\n",
       "      <td>22</td>\n",
       "      <td>1.96</td>\n",
       "      <td>Meio de rede</td>\n",
       "      <td>Novata</td>\n",
       "      <td>China</td>\n",
       "    </tr>\n",
       "    <tr>\n",
       "      <th>3</th>\n",
       "      <td>Gao Yi</td>\n",
       "      <td>24</td>\n",
       "      <td>1.94</td>\n",
       "      <td>Meio de rede</td>\n",
       "      <td>Novata</td>\n",
       "      <td>China</td>\n",
       "    </tr>\n",
       "    <tr>\n",
       "      <th>4</th>\n",
       "      <td>Gong Xiangyu</td>\n",
       "      <td>25</td>\n",
       "      <td>1.88</td>\n",
       "      <td>Oposto</td>\n",
       "      <td>Novata</td>\n",
       "      <td>China</td>\n",
       "    </tr>\n",
       "    <tr>\n",
       "      <th>5</th>\n",
       "      <td>Wang Yuanyuan</td>\n",
       "      <td>25</td>\n",
       "      <td>1.96</td>\n",
       "      <td>Meio de rede</td>\n",
       "      <td>Novata</td>\n",
       "      <td>China</td>\n",
       "    </tr>\n",
       "    <tr>\n",
       "      <th>6</th>\n",
       "      <td>Jin Ye</td>\n",
       "      <td>26</td>\n",
       "      <td>1.89</td>\n",
       "      <td>Ponteira</td>\n",
       "      <td>Experiente</td>\n",
       "      <td>China</td>\n",
       "    </tr>\n",
       "    <tr>\n",
       "      <th>7</th>\n",
       "      <td>Wang Yunlu</td>\n",
       "      <td>26</td>\n",
       "      <td>1.91</td>\n",
       "      <td>Ponteira</td>\n",
       "      <td>Experiente</td>\n",
       "      <td>China</td>\n",
       "    </tr>\n",
       "    <tr>\n",
       "      <th>8</th>\n",
       "      <td>Wang Yizhu</td>\n",
       "      <td>21</td>\n",
       "      <td>1.90</td>\n",
       "      <td>Ponteira</td>\n",
       "      <td>Novata</td>\n",
       "      <td>China</td>\n",
       "    </tr>\n",
       "    <tr>\n",
       "      <th>9</th>\n",
       "      <td>Li Yingying</td>\n",
       "      <td>22</td>\n",
       "      <td>1.92</td>\n",
       "      <td>Ponteira</td>\n",
       "      <td>Novata</td>\n",
       "      <td>China</td>\n",
       "    </tr>\n",
       "    <tr>\n",
       "      <th>10</th>\n",
       "      <td>Wang Weiyi</td>\n",
       "      <td>27</td>\n",
       "      <td>1.75</td>\n",
       "      <td>Líbero</td>\n",
       "      <td>Experiente</td>\n",
       "      <td>China</td>\n",
       "    </tr>\n",
       "    <tr>\n",
       "      <th>11</th>\n",
       "      <td>Ding Xia</td>\n",
       "      <td>32</td>\n",
       "      <td>1.80</td>\n",
       "      <td>Levantadora</td>\n",
       "      <td>Experiente</td>\n",
       "      <td>China</td>\n",
       "    </tr>\n",
       "    <tr>\n",
       "      <th>12</th>\n",
       "      <td>Wang Mengjie</td>\n",
       "      <td>26</td>\n",
       "      <td>1.73</td>\n",
       "      <td>Líbero</td>\n",
       "      <td>Experiente</td>\n",
       "      <td>China</td>\n",
       "    </tr>\n",
       "    <tr>\n",
       "      <th>13</th>\n",
       "      <td>Chen Peiyan</td>\n",
       "      <td>23</td>\n",
       "      <td>1.95</td>\n",
       "      <td>Oposto</td>\n",
       "      <td>Novata</td>\n",
       "      <td>China</td>\n",
       "    </tr>\n",
       "  </tbody>\n",
       "</table>\n",
       "</div>"
      ],
      "text/plain": [
       "             NOME  IDADE  ALTURA       POSIÇÃO FAIXA ETÁRIA   PAÍS\n",
       "0     Yuan Xinyue     25    2.02  Meio de rede       Novata  China\n",
       "1      Diao Linyu     28    1.83   Levantadora   Experiente  China\n",
       "2      Yang Hanyu     22    1.96  Meio de rede       Novata  China\n",
       "3          Gao Yi     24    1.94  Meio de rede       Novata  China\n",
       "4    Gong Xiangyu     25    1.88        Oposto       Novata  China\n",
       "5   Wang Yuanyuan     25    1.96  Meio de rede       Novata  China\n",
       "6          Jin Ye     26    1.89      Ponteira   Experiente  China\n",
       "7      Wang Yunlu     26    1.91      Ponteira   Experiente  China\n",
       "8      Wang Yizhu     21    1.90      Ponteira       Novata  China\n",
       "9     Li Yingying     22    1.92      Ponteira       Novata  China\n",
       "10     Wang Weiyi     27    1.75        Líbero   Experiente  China\n",
       "11       Ding Xia     32    1.80   Levantadora   Experiente  China\n",
       "12   Wang Mengjie     26    1.73        Líbero   Experiente  China\n",
       "13    Chen Peiyan     23    1.95        Oposto       Novata  China"
      ]
     },
     "execution_count": 66,
     "metadata": {},
     "output_type": "execute_result"
    }
   ],
   "source": [
    "china[\"PAÍS\"].fillna(\"China\", inplace = True)\n",
    "china"
   ]
  },
  {
   "cell_type": "markdown",
   "id": "2061ed01",
   "metadata": {},
   "source": [
    "<img src=\"brasil.JPG\" />"
   ]
  },
  {
   "cell_type": "code",
   "execution_count": 84,
   "id": "7bae773b",
   "metadata": {},
   "outputs": [
    {
     "data": {
      "image/png": "[encoded data removed]",
      "text/plain": [
       "<Figure size 1500x500 with 1 Axes>"
      ]
     },
     "metadata": {},
     "output_type": "display_data"
    },
    {
     "data": {
      "image/png": "[encoded data removed]",
      "text/plain": [
       "<Figure size 1500x500 with 1 Axes>"
      ]
     },
     "metadata": {},
     "output_type": "display_data"
    }
   ],
   "source": [
    "brasil=pd.DataFrame(brasil,columns=['Nº', 'NOME', 'IDADE', 'ALTURA', 'POSIÇÃO'])\n",
    "brasil['IDADE'].hist(bins=7, rwidth=0.90, color=\"darkgreen\")\n",
    "plt.xlim(18,42) \n",
    "plt.ylim(0,5)\n",
    "plt.title(\"Brasil - Idade\", fontsize = 16)\n",
    "plt.show()\n",
    "\n",
    "brasil['ALTURA'].hist(bins=5, rwidth=0.90, color=\"darkgreen\")\n",
    "plt.xlim(1.60,1.95) \n",
    "plt.ylim(0,7)\n",
    "plt.title(\"Brasil - Altura\", fontsize = 16)\n",
    "plt.show()"
   ]
  },
  {
   "cell_type": "code",
   "execution_count": 85,
   "id": "55b3df53",
   "metadata": {},
   "outputs": [
    {
     "data": {
      "text/plain": [
       "1.84"
      ]
     },
     "execution_count": 85,
     "metadata": {},
     "output_type": "execute_result"
    }
   ],
   "source": [
    "#média de altura Brasil\n",
    "round(brasil.ALTURA.mean(), 2)"
   ]
  },
  {
   "cell_type": "code",
   "execution_count": 86,
   "id": "a1714ba8",
   "metadata": {},
   "outputs": [
    {
     "data": {
      "text/plain": [
       "27.64"
      ]
     },
     "execution_count": 86,
     "metadata": {},
     "output_type": "execute_result"
    }
   ],
   "source": [
    "#média de idade Brasil\n",
    "round(brasil.IDADE.mean(), 2)"
   ]
  },
  {
   "cell_type": "code",
   "execution_count": 87,
   "id": "c9db0390",
   "metadata": {},
   "outputs": [
    {
     "data": {
      "image/png": "[encoded data removed]",
      "text/plain": [
       "<Figure size 1500x500 with 1 Axes>"
      ]
     },
     "metadata": {},
     "output_type": "display_data"
    }
   ],
   "source": [
    "# Variação de idade \n",
    "plt.title('Analisando a variação de idade')\n",
    "sns.boxplot(data=brasil, x='IDADE');\n"
   ]
  },
  {
   "cell_type": "code",
   "execution_count": 88,
   "id": "30bb62d8",
   "metadata": {},
   "outputs": [
    {
     "data": {
      "image/png": "[encoded data removed]",
      "text/plain": [
       "<Figure size 1500x500 with 1 Axes>"
      ]
     },
     "metadata": {},
     "output_type": "display_data"
    }
   ],
   "source": [
    "# Variação de altura \n",
    "plt.title('Analisando a variação de altura')\n",
    "sns.boxplot(data=brasil, x='ALTURA');"
   ]
  },
  {
   "cell_type": "code",
   "execution_count": 89,
   "id": "3fb284b0",
   "metadata": {},
   "outputs": [
    {
     "data": {
      "text/plain": [
       "POSIÇÃO\n",
       "Meio De Rede    1.89\n",
       "Oposto          1.89\n",
       "Ponteira        1.85\n",
       "Levantadora     1.82\n",
       "Líbero          1.70\n",
       "Name: ALTURA, dtype: float64"
      ]
     },
     "execution_count": 89,
     "metadata": {},
     "output_type": "execute_result"
    }
   ],
   "source": [
    "#média de altura por posição Brasil\n",
    "brasil.groupby('POSIÇÃO')['ALTURA'].mean().sort_values(ascending=False).round(2)"
   ]
  },
  {
   "cell_type": "code",
   "execution_count": 90,
   "id": "bf7571f8",
   "metadata": {},
   "outputs": [
    {
     "data": {
      "text/plain": [
       "POSIÇÃO\n",
       "Levantadora     32.5\n",
       "Meio De Rede    28.5\n",
       "Ponteira        28.0\n",
       "Líbero          24.0\n",
       "Oposto          24.0\n",
       "Name: IDADE, dtype: float64"
      ]
     },
     "execution_count": 90,
     "metadata": {},
     "output_type": "execute_result"
    }
   ],
   "source": [
    "#média de idade por posição \n",
    "brasil.groupby('POSIÇÃO')['IDADE'].mean().sort_values(ascending=False).round(2)"
   ]
  },
  {
   "cell_type": "code",
   "execution_count": 91,
   "id": "62c0e7b8",
   "metadata": {},
   "outputs": [
    {
     "data": {
      "text/plain": [
       "NOME\n",
       "Carol Gattaz     41\n",
       "Pri Daroit       34\n",
       "Macris           33\n",
       "Roberta          32\n",
       "Carol            31\n",
       "Gabi             28\n",
       "Rosamaria        28\n",
       "Lorenne          26\n",
       "Natinha          25\n",
       "Lorena           23\n",
       "Nyeme            23\n",
       "Kisy             22\n",
       "Tainara          22\n",
       "Júlia Kudiess    19\n",
       "Name: IDADE, dtype: int64"
      ]
     },
     "execution_count": 91,
     "metadata": {},
     "output_type": "execute_result"
    }
   ],
   "source": [
    "#ordenar por jogadora mais velha\n",
    "brasil.groupby('NOME')['IDADE'].max().sort_values(ascending=False)"
   ]
  },
  {
   "cell_type": "code",
   "execution_count": 92,
   "id": "bd2418c0",
   "metadata": {},
   "outputs": [
    {
     "data": {
      "text/plain": [
       "NOME\n",
       "Carol Gattaz     1.92\n",
       "Júlia Kudiess    1.92\n",
       "Kisy             1.91\n",
       "Lorena           1.90\n",
       "Tainara          1.90\n",
       "Lorenne          1.87\n",
       "Roberta          1.85\n",
       "Rosamaria        1.85\n",
       "Pri Daroit       1.84\n",
       "Carol            1.83\n",
       "Gabi             1.80\n",
       "Macris           1.78\n",
       "Nyeme            1.75\n",
       "Natinha          1.65\n",
       "Name: ALTURA, dtype: float64"
      ]
     },
     "execution_count": 92,
     "metadata": {},
     "output_type": "execute_result"
    }
   ],
   "source": [
    "#ordenar por jogadora mais alta\n",
    "brasil.groupby('NOME')['ALTURA'].max().sort_values(ascending=False)"
   ]
  },
  {
   "cell_type": "code",
   "execution_count": 67,
   "id": "8b098c4f",
   "metadata": {},
   "outputs": [
    {
     "data": {
      "text/html": [
       "<div>\n",
       "<style scoped>\n",
       "    .dataframe tbody tr th:only-of-type {\n",
       "        vertical-align: middle;\n",
       "    }\n",
       "\n",
       "    .dataframe tbody tr th {\n",
       "        vertical-align: top;\n",
       "    }\n",
       "\n",
       "    .dataframe thead th {\n",
       "        text-align: right;\n",
       "    }\n",
       "</style>\n",
       "<table border=\"1\" class=\"dataframe\">\n",
       "  <thead>\n",
       "    <tr style=\"text-align: right;\">\n",
       "      <th></th>\n",
       "      <th>NOME</th>\n",
       "      <th>IDADE</th>\n",
       "      <th>ALTURA</th>\n",
       "      <th>POSIÇÃO</th>\n",
       "      <th>FAIXA ETÁRIA</th>\n",
       "    </tr>\n",
       "  </thead>\n",
       "  <tbody>\n",
       "    <tr>\n",
       "      <th>0</th>\n",
       "      <td>Carol Gattaz</td>\n",
       "      <td>41</td>\n",
       "      <td>1.92</td>\n",
       "      <td>Meio De Rede</td>\n",
       "      <td>Veterana</td>\n",
       "    </tr>\n",
       "    <tr>\n",
       "      <th>1</th>\n",
       "      <td>Júlia Kudiess</td>\n",
       "      <td>19</td>\n",
       "      <td>1.92</td>\n",
       "      <td>Meio De Rede</td>\n",
       "      <td>Novata</td>\n",
       "    </tr>\n",
       "    <tr>\n",
       "      <th>2</th>\n",
       "      <td>Carol</td>\n",
       "      <td>31</td>\n",
       "      <td>1.83</td>\n",
       "      <td>Meio De Rede</td>\n",
       "      <td>Experiente</td>\n",
       "    </tr>\n",
       "    <tr>\n",
       "      <th>3</th>\n",
       "      <td>Pri Daroit</td>\n",
       "      <td>34</td>\n",
       "      <td>1.84</td>\n",
       "      <td>Ponteira</td>\n",
       "      <td>Veterana</td>\n",
       "    </tr>\n",
       "    <tr>\n",
       "      <th>4</th>\n",
       "      <td>Nyeme</td>\n",
       "      <td>23</td>\n",
       "      <td>1.75</td>\n",
       "      <td>Líbero</td>\n",
       "      <td>Novata</td>\n",
       "    </tr>\n",
       "    <tr>\n",
       "      <th>5</th>\n",
       "      <td>Rosamaria</td>\n",
       "      <td>28</td>\n",
       "      <td>1.85</td>\n",
       "      <td>Ponteira</td>\n",
       "      <td>Experiente</td>\n",
       "    </tr>\n",
       "    <tr>\n",
       "      <th>6</th>\n",
       "      <td>Macris</td>\n",
       "      <td>33</td>\n",
       "      <td>1.78</td>\n",
       "      <td>Levantadora</td>\n",
       "      <td>Experiente</td>\n",
       "    </tr>\n",
       "    <tr>\n",
       "      <th>7</th>\n",
       "      <td>Roberta</td>\n",
       "      <td>32</td>\n",
       "      <td>1.85</td>\n",
       "      <td>Levantadora</td>\n",
       "      <td>Experiente</td>\n",
       "    </tr>\n",
       "    <tr>\n",
       "      <th>8</th>\n",
       "      <td>Gabi</td>\n",
       "      <td>28</td>\n",
       "      <td>1.80</td>\n",
       "      <td>Ponteira</td>\n",
       "      <td>Experiente</td>\n",
       "    </tr>\n",
       "    <tr>\n",
       "      <th>9</th>\n",
       "      <td>Natinha</td>\n",
       "      <td>25</td>\n",
       "      <td>1.65</td>\n",
       "      <td>Líbero</td>\n",
       "      <td>Novata</td>\n",
       "    </tr>\n",
       "    <tr>\n",
       "      <th>10</th>\n",
       "      <td>Lorena</td>\n",
       "      <td>23</td>\n",
       "      <td>1.90</td>\n",
       "      <td>Meio De Rede</td>\n",
       "      <td>Novata</td>\n",
       "    </tr>\n",
       "    <tr>\n",
       "      <th>11</th>\n",
       "      <td>Kisy</td>\n",
       "      <td>22</td>\n",
       "      <td>1.91</td>\n",
       "      <td>Oposto</td>\n",
       "      <td>Novata</td>\n",
       "    </tr>\n",
       "    <tr>\n",
       "      <th>12</th>\n",
       "      <td>Tainara</td>\n",
       "      <td>22</td>\n",
       "      <td>1.90</td>\n",
       "      <td>Ponteira</td>\n",
       "      <td>Novata</td>\n",
       "    </tr>\n",
       "    <tr>\n",
       "      <th>13</th>\n",
       "      <td>Lorenne</td>\n",
       "      <td>26</td>\n",
       "      <td>1.87</td>\n",
       "      <td>Oposto</td>\n",
       "      <td>Experiente</td>\n",
       "    </tr>\n",
       "  </tbody>\n",
       "</table>\n",
       "</div>"
      ],
      "text/plain": [
       "             NOME  IDADE  ALTURA       POSIÇÃO FAIXA ETÁRIA\n",
       "0    Carol Gattaz     41    1.92  Meio De Rede     Veterana\n",
       "1   Júlia Kudiess     19    1.92  Meio De Rede       Novata\n",
       "2           Carol     31    1.83  Meio De Rede   Experiente\n",
       "3      Pri Daroit     34    1.84      Ponteira     Veterana\n",
       "4           Nyeme     23    1.75        Líbero       Novata\n",
       "5       Rosamaria     28    1.85      Ponteira   Experiente\n",
       "6          Macris     33    1.78   Levantadora   Experiente\n",
       "7         Roberta     32    1.85   Levantadora   Experiente\n",
       "8            Gabi     28    1.80      Ponteira   Experiente\n",
       "9         Natinha     25    1.65        Líbero       Novata\n",
       "10         Lorena     23    1.90  Meio De Rede       Novata\n",
       "11           Kisy     22    1.91        Oposto       Novata\n",
       "12        Tainara     22    1.90      Ponteira       Novata\n",
       "13        Lorenne     26    1.87        Oposto   Experiente"
      ]
     },
     "execution_count": 67,
     "metadata": {},
     "output_type": "execute_result"
    }
   ],
   "source": [
    "#criando coluna para mostrar novatas e experientes(novatas <= 25)\n",
    "import sys\n",
    "\n",
    "brasil['FAIXA ETÁRIA']=pd.cut(\n",
    "    brasil['IDADE'],\n",
    "    bins=[0, 25, 33, sys.maxsize],\n",
    "    labels=['Novata', 'Experiente', 'Veterana']\n",
    "\n",
    ")\n",
    "\n",
    "brasil"
   ]
  },
  {
   "cell_type": "code",
   "execution_count": 95,
   "id": "0b9d44d9",
   "metadata": {},
   "outputs": [
    {
     "data": {
      "image/png": "[encoded data removed]",
      "text/plain": [
       "<Figure size 1500x500 with 1 Axes>"
      ]
     },
     "metadata": {},
     "output_type": "display_data"
    }
   ],
   "source": [
    "brasil['FAIXA ETÁRIA'].value_counts().plot(kind='pie',autopct='%1.1f%%',startangle=60)\n",
    "plt.legend(brasil['FAIXA ETÁRIA'].value_counts(), title=\"Qtde em nº\",  bbox_to_anchor=(1, 1))\n",
    "plt.tight_layout()"
   ]
  },
  {
   "cell_type": "code",
   "execution_count": 69,
   "id": "3e41b67d",
   "metadata": {},
   "outputs": [
    {
     "name": "stdout",
     "output_type": "stream",
     "text": [
      "             NOME  IDADE  ALTURA       POSIÇÃO FAIXA ETÁRIA  PAÍS\n",
      "0    Carol Gattaz     41    1.92  Meio De Rede     Veterana   NaN\n",
      "1   Júlia Kudiess     19    1.92  Meio De Rede       Novata   NaN\n",
      "2           Carol     31    1.83  Meio De Rede   Experiente   NaN\n",
      "3      Pri Daroit     34    1.84      Ponteira     Veterana   NaN\n",
      "4           Nyeme     23    1.75        Líbero       Novata   NaN\n",
      "5       Rosamaria     28    1.85      Ponteira   Experiente   NaN\n",
      "6          Macris     33    1.78   Levantadora   Experiente   NaN\n",
      "7         Roberta     32    1.85   Levantadora   Experiente   NaN\n",
      "8            Gabi     28    1.80      Ponteira   Experiente   NaN\n",
      "9         Natinha     25    1.65        Líbero       Novata   NaN\n",
      "10         Lorena     23    1.90  Meio De Rede       Novata   NaN\n",
      "11           Kisy     22    1.91        Oposto       Novata   NaN\n",
      "12        Tainara     22    1.90      Ponteira       Novata   NaN\n",
      "13        Lorenne     26    1.87        Oposto   Experiente   NaN\n"
     ]
    }
   ],
   "source": [
    "brasil = pd.DataFrame(brasil,columns=['NOME','IDADE','ALTURA','POSIÇÃO','FAIXA ETÁRIA']) \n",
    "brasil = brasil.reindex(columns = brasil.columns.tolist() + ['PAÍS'])\n",
    "print(brasil)"
   ]
  },
  {
   "cell_type": "code",
   "execution_count": 70,
   "id": "941eba5d",
   "metadata": {},
   "outputs": [
    {
     "data": {
      "text/html": [
       "<div>\n",
       "<style scoped>\n",
       "    .dataframe tbody tr th:only-of-type {\n",
       "        vertical-align: middle;\n",
       "    }\n",
       "\n",
       "    .dataframe tbody tr th {\n",
       "        vertical-align: top;\n",
       "    }\n",
       "\n",
       "    .dataframe thead th {\n",
       "        text-align: right;\n",
       "    }\n",
       "</style>\n",
       "<table border=\"1\" class=\"dataframe\">\n",
       "  <thead>\n",
       "    <tr style=\"text-align: right;\">\n",
       "      <th></th>\n",
       "      <th>NOME</th>\n",
       "      <th>IDADE</th>\n",
       "      <th>ALTURA</th>\n",
       "      <th>POSIÇÃO</th>\n",
       "      <th>FAIXA ETÁRIA</th>\n",
       "      <th>PAÍS</th>\n",
       "    </tr>\n",
       "  </thead>\n",
       "  <tbody>\n",
       "    <tr>\n",
       "      <th>0</th>\n",
       "      <td>Carol Gattaz</td>\n",
       "      <td>41</td>\n",
       "      <td>1.92</td>\n",
       "      <td>Meio De Rede</td>\n",
       "      <td>Veterana</td>\n",
       "      <td>Brasil</td>\n",
       "    </tr>\n",
       "    <tr>\n",
       "      <th>1</th>\n",
       "      <td>Júlia Kudiess</td>\n",
       "      <td>19</td>\n",
       "      <td>1.92</td>\n",
       "      <td>Meio De Rede</td>\n",
       "      <td>Novata</td>\n",
       "      <td>Brasil</td>\n",
       "    </tr>\n",
       "    <tr>\n",
       "      <th>2</th>\n",
       "      <td>Carol</td>\n",
       "      <td>31</td>\n",
       "      <td>1.83</td>\n",
       "      <td>Meio De Rede</td>\n",
       "      <td>Experiente</td>\n",
       "      <td>Brasil</td>\n",
       "    </tr>\n",
       "    <tr>\n",
       "      <th>3</th>\n",
       "      <td>Pri Daroit</td>\n",
       "      <td>34</td>\n",
       "      <td>1.84</td>\n",
       "      <td>Ponteira</td>\n",
       "      <td>Veterana</td>\n",
       "      <td>Brasil</td>\n",
       "    </tr>\n",
       "    <tr>\n",
       "      <th>4</th>\n",
       "      <td>Nyeme</td>\n",
       "      <td>23</td>\n",
       "      <td>1.75</td>\n",
       "      <td>Líbero</td>\n",
       "      <td>Novata</td>\n",
       "      <td>Brasil</td>\n",
       "    </tr>\n",
       "    <tr>\n",
       "      <th>5</th>\n",
       "      <td>Rosamaria</td>\n",
       "      <td>28</td>\n",
       "      <td>1.85</td>\n",
       "      <td>Ponteira</td>\n",
       "      <td>Experiente</td>\n",
       "      <td>Brasil</td>\n",
       "    </tr>\n",
       "    <tr>\n",
       "      <th>6</th>\n",
       "      <td>Macris</td>\n",
       "      <td>33</td>\n",
       "      <td>1.78</td>\n",
       "      <td>Levantadora</td>\n",
       "      <td>Experiente</td>\n",
       "      <td>Brasil</td>\n",
       "    </tr>\n",
       "    <tr>\n",
       "      <th>7</th>\n",
       "      <td>Roberta</td>\n",
       "      <td>32</td>\n",
       "      <td>1.85</td>\n",
       "      <td>Levantadora</td>\n",
       "      <td>Experiente</td>\n",
       "      <td>Brasil</td>\n",
       "    </tr>\n",
       "    <tr>\n",
       "      <th>8</th>\n",
       "      <td>Gabi</td>\n",
       "      <td>28</td>\n",
       "      <td>1.80</td>\n",
       "      <td>Ponteira</td>\n",
       "      <td>Experiente</td>\n",
       "      <td>Brasil</td>\n",
       "    </tr>\n",
       "    <tr>\n",
       "      <th>9</th>\n",
       "      <td>Natinha</td>\n",
       "      <td>25</td>\n",
       "      <td>1.65</td>\n",
       "      <td>Líbero</td>\n",
       "      <td>Novata</td>\n",
       "      <td>Brasil</td>\n",
       "    </tr>\n",
       "    <tr>\n",
       "      <th>10</th>\n",
       "      <td>Lorena</td>\n",
       "      <td>23</td>\n",
       "      <td>1.90</td>\n",
       "      <td>Meio De Rede</td>\n",
       "      <td>Novata</td>\n",
       "      <td>Brasil</td>\n",
       "    </tr>\n",
       "    <tr>\n",
       "      <th>11</th>\n",
       "      <td>Kisy</td>\n",
       "      <td>22</td>\n",
       "      <td>1.91</td>\n",
       "      <td>Oposto</td>\n",
       "      <td>Novata</td>\n",
       "      <td>Brasil</td>\n",
       "    </tr>\n",
       "    <tr>\n",
       "      <th>12</th>\n",
       "      <td>Tainara</td>\n",
       "      <td>22</td>\n",
       "      <td>1.90</td>\n",
       "      <td>Ponteira</td>\n",
       "      <td>Novata</td>\n",
       "      <td>Brasil</td>\n",
       "    </tr>\n",
       "    <tr>\n",
       "      <th>13</th>\n",
       "      <td>Lorenne</td>\n",
       "      <td>26</td>\n",
       "      <td>1.87</td>\n",
       "      <td>Oposto</td>\n",
       "      <td>Experiente</td>\n",
       "      <td>Brasil</td>\n",
       "    </tr>\n",
       "  </tbody>\n",
       "</table>\n",
       "</div>"
      ],
      "text/plain": [
       "             NOME  IDADE  ALTURA       POSIÇÃO FAIXA ETÁRIA    PAÍS\n",
       "0    Carol Gattaz     41    1.92  Meio De Rede     Veterana  Brasil\n",
       "1   Júlia Kudiess     19    1.92  Meio De Rede       Novata  Brasil\n",
       "2           Carol     31    1.83  Meio De Rede   Experiente  Brasil\n",
       "3      Pri Daroit     34    1.84      Ponteira     Veterana  Brasil\n",
       "4           Nyeme     23    1.75        Líbero       Novata  Brasil\n",
       "5       Rosamaria     28    1.85      Ponteira   Experiente  Brasil\n",
       "6          Macris     33    1.78   Levantadora   Experiente  Brasil\n",
       "7         Roberta     32    1.85   Levantadora   Experiente  Brasil\n",
       "8            Gabi     28    1.80      Ponteira   Experiente  Brasil\n",
       "9         Natinha     25    1.65        Líbero       Novata  Brasil\n",
       "10         Lorena     23    1.90  Meio De Rede       Novata  Brasil\n",
       "11           Kisy     22    1.91        Oposto       Novata  Brasil\n",
       "12        Tainara     22    1.90      Ponteira       Novata  Brasil\n",
       "13        Lorenne     26    1.87        Oposto   Experiente  Brasil"
      ]
     },
     "execution_count": 70,
     "metadata": {},
     "output_type": "execute_result"
    }
   ],
   "source": [
    "brasil[\"PAÍS\"].fillna(\"Brasil\", inplace = True)\n",
    "brasil"
   ]
  },
  {
   "cell_type": "code",
   "execution_count": 71,
   "id": "1fa7a71e",
   "metadata": {},
   "outputs": [],
   "source": [
    "#salvar esses arquivos com as novas informações\n",
    "\n",
    "brasil.to_csv('brasil.csv', index = False)\n",
    "servia.to_csv('servia.csv', index = False)\n",
    "eua.to_csv('eua.csv', index = False)\n",
    "china.to_csv('china.csv', index = False)\n",
    "italia.to_csv('italia.csv', index = False)"
   ]
  }
 ],
 "metadata": {
  "kernelspec": {
   "display_name": "Python 3 (ipykernel)",
   "language": "python",
   "name": "python3"
  },
  "language_info": {
   "codemirror_mode": {
    "name": "ipython",
    "version": 3
   },
   "file_extension": ".py",
   "mimetype": "text/x-python",
   "name": "python",
   "nbconvert_exporter": "python",
   "pygments_lexer": "ipython3",
   "version": "3.9.12"
  },
  "vscode": {
   "interpreter": {
    "hash": "ad2bdc8ecc057115af97d19610ffacc2b4e99fae6737bb82f5d7fb13d2f2c186"
   }
  }
 },
 "nbformat": 4,
 "nbformat_minor": 5
}
